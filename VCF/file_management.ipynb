{
 "cells": [
  {
   "cell_type": "code",
   "execution_count": 1,
   "id": "fbfb0f29-b45c-42a7-bb69-3ae0124a3ede",
   "metadata": {},
   "outputs": [],
   "source": [
    "import numpy as np\n",
    "import pandas as pd\n",
    "import matplotlib.pyplot as plt\n",
    "import os\n",
    "from lpa_pipeline import validator, vcf_translate, preprocessing, utils, settings"
   ]
  },
  {
   "cell_type": "markdown",
   "id": "1f885210-b30c-43f3-96e6-1f35e8044fed",
   "metadata": {},
   "source": [
    "All the constants saved in file_manage.settings"
   ]
  },
  {
   "cell_type": "code",
   "execution_count": null,
   "id": "8761ff3f-ea3d-48d3-beb6-2435f440e35d",
   "metadata": {},
   "outputs": [],
   "source": [
    "pd.read_csv(settings.SNPS[4], index_col = 0)"
   ]
  },
  {
   "cell_type": "code",
   "execution_count": 5,
   "id": "2847b85e-62e2-4cf5-a788-3b7f3bce6bdc",
   "metadata": {},
   "outputs": [],
   "source": [
    "EV = validator.EnsembleValidator()"
   ]
  },
  {
   "cell_type": "code",
   "execution_count": 7,
   "id": "6569061a-b1b5-49f1-9c09-5432ec0c6e5d",
   "metadata": {},
   "outputs": [],
   "source": [
    "ETHNICITY = \"complete\""
   ]
  },
  {
   "cell_type": "code",
   "execution_count": 8,
   "id": "ed5c6f97-c0cb-4aa4-9f9e-6a81b68b33b0",
   "metadata": {},
   "outputs": [
    {
     "name": "stdout",
     "output_type": "stream",
     "text": [
      "Source file Failed: the following 20 files need a further check\n",
      "row index 505, file washei36937.BQSR.recaled.bam\n",
      "row index 564, file washei39358.BQSR.recaled.bam\n",
      "row index 971, file washei27696.BQSR.recaled.bam\n",
      "row index 1158, file washei35780.BQSR.recaled.bam\n",
      "row index 1173, file washei38402.BQSR.recaled.bam\n",
      "row index 1268, file washei37289.BQSR.recaled.bam\n",
      "row index 1286, file washei37268.BQSR.recaled.bam\n",
      "row index 1403, file washei34288.BQSR.recaled.bam\n",
      "row index 1496, file washei29990.BQSR.recaled.bam\n",
      "row index 1585, file washei34234.BQSR.recaled.bam\n",
      "row index 1660, file washei25793.BQSR.recaled.bam\n",
      "row index 1762, file washei54973.BQSR.recaled.bam\n",
      "row index 1767, file washei34200.BQSR.recaled.bam\n",
      "row index 1997, file washei34909.BQSR.recaled.bam\n",
      "row index 2051, file washei34276.BQSR.recaled.bam\n",
      "row index 2075, file washei37856.BQSR.recaled.bam\n",
      "row index 2338, file washei34290.BQSR.recaled.bam\n",
      "row index 2348, file washei38248.BQSR.recaled.bam\n",
      "row index 3924, file washei65820.BQSR.recaled.bam\n",
      "row index 4062, file washei50549.BQSR.recaled.bam\n",
      "Output files Passed\n"
     ]
    }
   ],
   "source": [
    "source_fail_list, pipeline_fail_list = EV.validate(settings.SNPS[ETHNICITY])"
   ]
  },
  {
   "cell_type": "code",
   "execution_count": 3,
   "id": "cf33f3b8-4b5e-4fe8-b91e-77c114cd65e8",
   "metadata": {},
   "outputs": [],
   "source": [
    "INPUT_PATH, BAM_LIST, VCF_NAME, VCF_PATH, CSV_NAME, OUTPUT_PATH = utils.generate_paths(ETHNICITY)"
   ]
  },
  {
   "cell_type": "code",
   "execution_count": 4,
   "id": "171ead3b-ff3e-43cd-ae41-a489a1cf34df",
   "metadata": {},
   "outputs": [],
   "source": [
    "vcf_translate.write_vcf(input_path = INPUT_PATH, \n",
    "                        bam_list = BAM_LIST, \n",
    "                        output_path = VCF_PATH,\n",
    "                        mode = \"simplified\",\n",
    "                        format = \"LPA\"\n",
    "                       )"
   ]
  },
  {
   "cell_type": "code",
   "execution_count": 4,
   "id": "8881056b-4dd4-4c65-b7eb-56edbd140a7a",
   "metadata": {},
   "outputs": [],
   "source": [
    "df = preprocessing.read_vcf(path = VCF_PATH)\n",
    "df = preprocessing.encode(df)\n",
    "df.to_csv(OUTPUT_PATH)"
   ]
  }
 ],
 "metadata": {
  "kernelspec": {
   "display_name": "Python 3 (ipykernel)",
   "language": "python",
   "name": "python3"
  },
  "language_info": {
   "codemirror_mode": {
    "name": "ipython",
    "version": 3
   },
   "file_extension": ".py",
   "mimetype": "text/x-python",
   "name": "python",
   "nbconvert_exporter": "python",
   "pygments_lexer": "ipython3",
   "version": "3.7.11"
  }
 },
 "nbformat": 4,
 "nbformat_minor": 5
}
