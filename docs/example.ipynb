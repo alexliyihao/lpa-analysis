{
 "cells": [
  {
   "cell_type": "code",
   "execution_count": 1,
   "id": "93b5d0eb-6247-4367-9962-aefb6c136499",
   "metadata": {
    "tags": []
   },
   "outputs": [],
   "source": [
    "import pandas as pd\n",
    "import os"
   ]
  },
  {
   "cell_type": "markdown",
   "id": "ac9a7767-7113-4d63-ad38-ff53d6a9ef8f",
   "metadata": {},
   "source": [
    "Please note that all the table illustrations removed the index, the table should have subject index for aligning in actual running"
   ]
  },
  {
   "cell_type": "code",
   "execution_count": 2,
   "id": "b1832196-d32b-41d0-af61-55487d324e93",
   "metadata": {},
   "outputs": [],
   "source": [
    "def source_path(path):\n",
    "    \"\"\"for tidier illustration\"\"\"\n",
    "    return os.path.join(\"/mnt/vast/hpc/bvardarajan_lab/\", path)"
   ]
  },
  {
   "cell_type": "markdown",
   "id": "09fc1045-dd40-4f89-a39a-a16b3872263c",
   "metadata": {},
   "source": [
    "# Encode the output from Coassin pipeline"
   ]
  },
  {
   "cell_type": "code",
   "execution_count": 3,
   "id": "8381fb83-bb5b-47ba-af46-c7095db2494c",
   "metadata": {},
   "outputs": [
    {
     "name": "stdout",
     "output_type": "stream",
     "text": [
      "The pipeline encodes outputs from coassin_pipeline\n",
      "\n",
      "Encoding Rule:\n",
      "\n",
      "* If raw/raw.txt file total coverage < ``raw_total_coverage_threshold``,\n",
      "  encode that position \"missing\" for that person\n",
      "* If total coverage >= ``raw_total_coverage_threshold``, in annotated file\n",
      "    * If position is missing in annotated file, the variant is coded 0\n",
      "    * If position is present in the annotated, if both:\n",
      "        1. variant_level value > ``variant_level_threshold``\n",
      "        2. the total reads supporting (variant_level*total_coverage)\n",
      "           value >= ``read_supporting_threshold``,\n",
      "      are met, the variant is coded 1, otherwise 0\n",
      "\n",
      "Example:\n",
      "\n",
      "    The class should be initiated as follows::\n",
      "\n",
      "        eco = encodings.EncodingCoassinOutput(\n",
      "            input_path = \"/some/parent/path/of/bam/output\" # or next line\n",
      "            bam_list = \"/paths/to/a/file/recording/bam/path/line/by/line.txt\"\n",
      "            output_path = \"output_path\"# required\n",
      "            )\n",
      "\n",
      "    The encoding process include an individual encoding step::\n",
      "\n",
      "        eco.encode_individual(saving_step: int)\n",
      "\n",
      "    this step will be very time consuming. For it is originally running on SGE,\n",
      "    no parallel is provided in Python, it's recommended to split your BAM output\n",
      "    via bam_list. Saving_step default to 1, i.e. each individual's result is\n",
      "    saved seperately. A larger saving_step can reduce the saving overhead.\n",
      "\n",
      "    After individual encoding, the following method can generate the output::\n",
      "\n",
      "        eco.generate_coverage_total()\n",
      "        eco.generate_encoded_results()\n",
      "\n"
     ]
    }
   ],
   "source": [
    "from lpa_pipeline import encodings\n",
    "print(encodings.__doc__)"
   ]
  },
  {
   "cell_type": "markdown",
   "id": "65fa0adf-10c6-4463-b04f-f5e1d3792f86",
   "metadata": {},
   "source": [
    "Using parent path:"
   ]
  },
  {
   "cell_type": "code",
   "execution_count": 4,
   "id": "1d74be65-8105-4327-a5ef-63aa4fcf77ef",
   "metadata": {},
   "outputs": [
    {
     "data": {
      "application/vnd.jupyter.widget-view+json": {
       "model_id": "2c47ff96faa74e4bbb6597a8710f3bcd",
       "version_major": 2,
       "version_minor": 0
      },
      "text/plain": [
       "0it [00:00, ?it/s]"
      ]
     },
     "metadata": {},
     "output_type": "display_data"
    }
   ],
   "source": [
    "eco = encodings.EncodingCoassinOutput(\n",
    "    input_path = source_path(\"LPA_analysis/coassin_pipeline/pipeline_output\"),\n",
    "    output_path = source_path(\"LPA_analysis/dataset/tidied_output/illustration_run\"),\n",
    "    verbosity = 0\n",
    "    )"
   ]
  },
  {
   "cell_type": "markdown",
   "id": "76edd22e-3e08-4920-8078-7b15347a8eef",
   "metadata": {},
   "source": [
    "For txt file, the txt file should have each path in a row"
   ]
  },
  {
   "cell_type": "code",
   "execution_count": 5,
   "id": "c6df0775-042f-498c-83f3-a39f35b7d4c8",
   "metadata": {},
   "outputs": [
    {
     "data": {
      "application/vnd.jupyter.widget-view+json": {
       "model_id": "444af77483bc4106bad5a14f3425d3ba",
       "version_major": 2,
       "version_minor": 0
      },
      "text/plain": [
       "  0%|          | 0/3 [00:00<?, ?it/s]"
      ]
     },
     "metadata": {},
     "output_type": "display_data"
    },
    {
     "name": "stdout",
     "output_type": "stream",
     "text": [
      "3 valid input detected\n"
     ]
    }
   ],
   "source": [
    "eco = encodings.EncodingCoassinOutput(\n",
    "    bam_list = source_path(\"LPA_analysis/coassin_pipeline/data_inflow/bam_list_n=3.txt\"),\n",
    "    output_path = source_path(\"LPA_analysis/dataset/tidied_output/pipeline_test\"),\n",
    "    verbosity = 1 # you can set to 0 to mute output\n",
    "    )"
   ]
  },
  {
   "cell_type": "code",
   "execution_count": 6,
   "id": "8aba5f61-8ec3-4dc7-8814-51ae4628b110",
   "metadata": {},
   "outputs": [
    {
     "data": {
      "application/vnd.jupyter.widget-view+json": {
       "model_id": "716689ed514349df9981579ef38bbab9",
       "version_major": 2,
       "version_minor": 0
      },
      "text/plain": [
       "  0%|          | 0/3 [00:00<?, ?it/s]"
      ]
     },
     "metadata": {},
     "output_type": "display_data"
    },
    {
     "name": "stdout",
     "output_type": "stream",
     "text": [
      "Step: 0: coverage total saved into /mnt/vast/hpc/bvardarajan_lab/LPA_analysis/dataset/tidied_output/pipeline_test/coverage_totals/washei25748.BQSR.recaled.bam.csv\n",
      "Step: 0: encoded result saved into /mnt/vast/hpc/bvardarajan_lab/LPA_analysis/dataset/tidied_output/pipeline_test/encoded_results/washei25748.BQSR.recaled.bam.csv\n",
      "Step: 1: coverage total saved into /mnt/vast/hpc/bvardarajan_lab/LPA_analysis/dataset/tidied_output/pipeline_test/coverage_totals/washei25756.BQSR.recaled.bam.csv\n",
      "Step: 1: encoded result saved into /mnt/vast/hpc/bvardarajan_lab/LPA_analysis/dataset/tidied_output/pipeline_test/encoded_results/washei25756.BQSR.recaled.bam.csv\n",
      "Step: 2: coverage total saved into /mnt/vast/hpc/bvardarajan_lab/LPA_analysis/dataset/tidied_output/pipeline_test/coverage_totals/washei25759.BQSR.recaled.bam.csv\n",
      "Step: 2: encoded result saved into /mnt/vast/hpc/bvardarajan_lab/LPA_analysis/dataset/tidied_output/pipeline_test/encoded_results/washei25759.BQSR.recaled.bam.csv\n"
     ]
    }
   ],
   "source": [
    "eco.encode_individual(saving_step = 1)"
   ]
  },
  {
   "cell_type": "markdown",
   "id": "e8a600e9-71cb-422f-8275-9b424e61cc7b",
   "metadata": {},
   "source": [
    "When encoding, the class will search all the output under output_path"
   ]
  },
  {
   "cell_type": "code",
   "execution_count": 7,
   "id": "2053dae1-3d67-42d4-905e-ea35f93947e5",
   "metadata": {},
   "outputs": [],
   "source": [
    "complete_coverage_total = eco.generate_coverage_total(save = True)\n",
    "complete_encoded_result = eco.generate_encoded_results(save = True)"
   ]
  },
  {
   "cell_type": "markdown",
   "id": "98a4cf94-cf14-423c-adb9-dcfc0ccab5fb",
   "metadata": {},
   "source": [
    "# Intersect with eigenstrat result \n",
    "Any other table with ethnicity information is fine"
   ]
  },
  {
   "cell_type": "code",
   "execution_count": 8,
   "id": "1359d0e3-bf8b-441b-af98-1181f8fd7283",
   "metadata": {
    "tags": []
   },
   "outputs": [
    {
     "name": "stdout",
     "output_type": "stream",
     "text": [
      "(3915, 2130) (3819, 4)\n"
     ]
    }
   ],
   "source": [
    "# the complete_encoded_result on the cell above\n",
    "encoding_result = pd.read_csv(\n",
    "    source_path(\"LPA_analysis/dataset/tidied_output/encoded_result_final.csv\"), \n",
    "    index_col = 0).T # One-hot-encoded table, Subject at index, snps on the header\n",
    "\n",
    "# A ethnicity information table\n",
    "# Any table provided a \"ethnicity\" column, this gives PCA result from eigenstrat as well\n",
    "eigen_result = pd.read_csv(\n",
    "    source_path(\"LPA_analysis/dataset/ethnicity_from_eigenstrat/eigenstrat_complete.csv\"), \n",
    "    index_col = 0) \n",
    "print(encoding_result.shape, eigen_result.shape)"
   ]
  },
  {
   "cell_type": "code",
   "execution_count": 9,
   "id": "26f5567d-4c53-41d7-8aff-79b1adb9f3b7",
   "metadata": {},
   "outputs": [
    {
     "data": {
      "text/html": [
       "<div>\n",
       "<style scoped>\n",
       "    .dataframe tbody tr th:only-of-type {\n",
       "        vertical-align: middle;\n",
       "    }\n",
       "\n",
       "    .dataframe tbody tr th {\n",
       "        vertical-align: top;\n",
       "    }\n",
       "\n",
       "    .dataframe thead th {\n",
       "        text-align: right;\n",
       "    }\n",
       "</style>\n",
       "<table border=\"1\" class=\"dataframe\">\n",
       "  <thead>\n",
       "    <tr style=\"text-align: right;\">\n",
       "      <th></th>\n",
       "      <th>PC1</th>\n",
       "      <th>PC2</th>\n",
       "      <th>PC3</th>\n",
       "      <th>ethnicity</th>\n",
       "    </tr>\n",
       "  </thead>\n",
       "  <tbody>\n",
       "    <tr>\n",
       "      <th>0</th>\n",
       "      <td>-0.0394</td>\n",
       "      <td>0.0118</td>\n",
       "      <td>-0.0001</td>\n",
       "      <td>EU</td>\n",
       "    </tr>\n",
       "    <tr>\n",
       "      <th>1</th>\n",
       "      <td>0.0280</td>\n",
       "      <td>0.0030</td>\n",
       "      <td>0.0480</td>\n",
       "      <td>EU</td>\n",
       "    </tr>\n",
       "    <tr>\n",
       "      <th>2</th>\n",
       "      <td>-0.0429</td>\n",
       "      <td>0.0254</td>\n",
       "      <td>-0.0240</td>\n",
       "      <td>EU</td>\n",
       "    </tr>\n",
       "  </tbody>\n",
       "</table>\n",
       "</div>"
      ],
      "text/plain": [
       "      PC1     PC2     PC3 ethnicity\n",
       "0 -0.0394  0.0118 -0.0001        EU\n",
       "1  0.0280  0.0030  0.0480        EU\n",
       "2 -0.0429  0.0254 -0.0240        EU"
      ]
     },
     "execution_count": 9,
     "metadata": {},
     "output_type": "execute_result"
    }
   ],
   "source": [
    "# removed the index ID for illustration\n",
    "eigen_result.head(3).reset_index(drop = True) "
   ]
  },
  {
   "cell_type": "markdown",
   "id": "fdeec0ba-29f1-4194-9a80-2fa2a21fa19a",
   "metadata": {},
   "source": [
    "Align the encoding and ethnicity information"
   ]
  },
  {
   "cell_type": "code",
   "execution_count": 10,
   "id": "a50af53b-009f-4b85-a15c-48a8f8bd3eb2",
   "metadata": {
    "tags": []
   },
   "outputs": [
    {
     "name": "stdout",
     "output_type": "stream",
     "text": [
      "(3817, 2130) (3817, 4)\n"
     ]
    }
   ],
   "source": [
    "encoding_result_aligned, eigen_result_aligned = encoding_result.align(eigen_result, join = \"inner\", axis = 0)\n",
    "print(encoding_result_aligned.shape, eigen_result_aligned.shape)"
   ]
  },
  {
   "cell_type": "markdown",
   "id": "aa41f126-d205-4265-b732-cd5e4e2b906c",
   "metadata": {},
   "source": [
    "# Filter the encoded variants"
   ]
  },
  {
   "cell_type": "code",
   "execution_count": 11,
   "id": "d5522dad-4c2e-4805-ba8c-3459aa6b48cd",
   "metadata": {},
   "outputs": [
    {
     "name": "stdout",
     "output_type": "stream",
     "text": [
      "Give a first-step filter to all the SNPs encoded from Coassin's output\n",
      "\n",
      "Apply the following:\n",
      "\n",
      "    * filter A: drop SNPs with NA ratio higher than ``drop_ratio`` in population\n",
      "    * filter B: drop SNPs with all 1's or all 0's (NA doesn't count for this)\n",
      "\n",
      "Example::\n",
      "\n",
      "    filter_AB = SnpsFilter(drop_ratio = 0.1)\n",
      "    filtered_result, drop_mask, drop_report = filter_AB.filter_A_and_B(df)\n",
      "\n",
      "Where df is a pd.DataFrame instance,\n",
      "with SNPs ID on the header, subject ID at the index,\n",
      "i.e. This filter is dropping columns.\n",
      "\n"
     ]
    }
   ],
   "source": [
    "from lpa_pipeline import snps_filter\n",
    "print(snps_filter.__doc__)"
   ]
  },
  {
   "cell_type": "code",
   "execution_count": 12,
   "id": "66e8c789-dc3b-4b60-b954-13eb7aa842e8",
   "metadata": {},
   "outputs": [],
   "source": [
    "filter_AB = snps_filter.SnpsFilter()\n",
    "filtered_result, drop_mask, drop_report = filter_AB.filter_A_and_B(encoding_result_aligned)"
   ]
  },
  {
   "cell_type": "code",
   "execution_count": 13,
   "id": "e2bcf2a6-34f8-4fa7-a8fb-60f3e0957723",
   "metadata": {},
   "outputs": [
    {
     "data": {
      "text/html": [
       "<div>\n",
       "<style scoped>\n",
       "    .dataframe tbody tr th:only-of-type {\n",
       "        vertical-align: middle;\n",
       "    }\n",
       "\n",
       "    .dataframe tbody tr th {\n",
       "        vertical-align: top;\n",
       "    }\n",
       "\n",
       "    .dataframe thead th {\n",
       "        text-align: right;\n",
       "    }\n",
       "</style>\n",
       "<table border=\"1\" class=\"dataframe\">\n",
       "  <thead>\n",
       "    <tr style=\"text-align: right;\">\n",
       "      <th></th>\n",
       "      <th>filtered_A</th>\n",
       "      <th>filtered_B</th>\n",
       "      <th>filtered</th>\n",
       "    </tr>\n",
       "    <tr>\n",
       "      <th>snp_pos</th>\n",
       "      <th></th>\n",
       "      <th></th>\n",
       "      <th></th>\n",
       "    </tr>\n",
       "  </thead>\n",
       "  <tbody>\n",
       "    <tr>\n",
       "      <th>11-G/A</th>\n",
       "      <td>True</td>\n",
       "      <td>False</td>\n",
       "      <td>False</td>\n",
       "    </tr>\n",
       "    <tr>\n",
       "      <th>16-T/C</th>\n",
       "      <td>True</td>\n",
       "      <td>False</td>\n",
       "      <td>False</td>\n",
       "    </tr>\n",
       "    <tr>\n",
       "      <th>17-G/A</th>\n",
       "      <td>True</td>\n",
       "      <td>False</td>\n",
       "      <td>False</td>\n",
       "    </tr>\n",
       "  </tbody>\n",
       "</table>\n",
       "</div>"
      ],
      "text/plain": [
       "         filtered_A  filtered_B  filtered\n",
       "snp_pos                                  \n",
       "11-G/A         True       False     False\n",
       "16-T/C         True       False     False\n",
       "17-G/A         True       False     False"
      ]
     },
     "execution_count": 13,
     "metadata": {},
     "output_type": "execute_result"
    }
   ],
   "source": [
    "drop_mask.head(3)"
   ]
  },
  {
   "cell_type": "code",
   "execution_count": 14,
   "id": "0a331555-b54f-4c12-9151-0c3350428621",
   "metadata": {},
   "outputs": [
    {
     "data": {
      "text/html": [
       "<div>\n",
       "<style scoped>\n",
       "    .dataframe tbody tr th:only-of-type {\n",
       "        vertical-align: middle;\n",
       "    }\n",
       "\n",
       "    .dataframe tbody tr th {\n",
       "        vertical-align: top;\n",
       "    }\n",
       "\n",
       "    .dataframe thead th {\n",
       "        text-align: right;\n",
       "    }\n",
       "</style>\n",
       "<table border=\"1\" class=\"dataframe\">\n",
       "  <thead>\n",
       "    <tr style=\"text-align: right;\">\n",
       "      <th></th>\n",
       "      <th>left</th>\n",
       "      <th>drop</th>\n",
       "    </tr>\n",
       "  </thead>\n",
       "  <tbody>\n",
       "    <tr>\n",
       "      <th>filtered_A</th>\n",
       "      <td>1764</td>\n",
       "      <td>366</td>\n",
       "    </tr>\n",
       "    <tr>\n",
       "      <th>filtered_B</th>\n",
       "      <td>1533</td>\n",
       "      <td>597</td>\n",
       "    </tr>\n",
       "    <tr>\n",
       "      <th>filtered</th>\n",
       "      <td>1421</td>\n",
       "      <td>709</td>\n",
       "    </tr>\n",
       "  </tbody>\n",
       "</table>\n",
       "</div>"
      ],
      "text/plain": [
       "            left  drop\n",
       "filtered_A  1764   366\n",
       "filtered_B  1533   597\n",
       "filtered    1421   709"
      ]
     },
     "execution_count": 14,
     "metadata": {},
     "output_type": "execute_result"
    }
   ],
   "source": [
    "drop_report"
   ]
  },
  {
   "cell_type": "code",
   "execution_count": 15,
   "id": "ee415b56-2091-4595-ad5b-0bc489e938f2",
   "metadata": {},
   "outputs": [
    {
     "data": {
      "text/plain": [
       "(3817, 1421)"
      ]
     },
     "execution_count": 15,
     "metadata": {},
     "output_type": "execute_result"
    }
   ],
   "source": [
    "filtered_result.shape"
   ]
  },
  {
   "cell_type": "markdown",
   "id": "59f9f1f2-843a-49d8-b8ab-e00929a1f44d",
   "metadata": {},
   "source": [
    "# Locus table illustration"
   ]
  },
  {
   "cell_type": "code",
   "execution_count": 16,
   "id": "b52d2a72-6f1e-4085-86cb-034558addba4",
   "metadata": {},
   "outputs": [
    {
     "name": "stdout",
     "output_type": "stream",
     "text": [
      "Collecting the locus information of Coassin's output\n",
      "\n",
      "Example::\n",
      "\n",
      "    lc = locus_collector.LocusCollector(\n",
      "        input_path = \"/some/parent/path/of/bam/output\" #choose this or next line\n",
      "        bam_list = \"/paths/to/a/file/recording/bam/path/line/by/line.txt\")\n",
      "\n",
      "    locus_table = lc.generate_locus_table()\n",
      "\n",
      "\n"
     ]
    }
   ],
   "source": [
    "from lpa_pipeline import locus_collector\n",
    "print(locus_collector.__doc__)"
   ]
  },
  {
   "cell_type": "code",
   "execution_count": 17,
   "id": "8fc7a1cd-b7b2-455b-a2b9-040d28fc8318",
   "metadata": {
    "scrolled": true
   },
   "outputs": [],
   "source": [
    "lc = locus_collector.LocusCollector(\n",
    "    input_path = source_path(\"LPA_analysis/coassin_pipeline/pipeline_output\"))\n",
    "locus_table = lc.generate_locus_table()"
   ]
  },
  {
   "cell_type": "code",
   "execution_count": 18,
   "id": "a540c3b1-9ae0-4127-80c9-f42f45cfaa6b",
   "metadata": {},
   "outputs": [
    {
     "data": {
      "text/html": [
       "<div>\n",
       "<style scoped>\n",
       "    .dataframe tbody tr th:only-of-type {\n",
       "        vertical-align: middle;\n",
       "    }\n",
       "\n",
       "    .dataframe tbody tr th {\n",
       "        vertical-align: top;\n",
       "    }\n",
       "\n",
       "    .dataframe thead th {\n",
       "        text-align: right;\n",
       "    }\n",
       "</style>\n",
       "<table border=\"1\" class=\"dataframe\">\n",
       "  <thead>\n",
       "    <tr style=\"text-align: right;\">\n",
       "      <th></th>\n",
       "      <th>Pos</th>\n",
       "      <th>Ref</th>\n",
       "      <th>Variant</th>\n",
       "      <th>mylocus</th>\n",
       "      <th>coding</th>\n",
       "    </tr>\n",
       "    <tr>\n",
       "      <th>pos-ref/var</th>\n",
       "      <th></th>\n",
       "      <th></th>\n",
       "      <th></th>\n",
       "      <th></th>\n",
       "      <th></th>\n",
       "    </tr>\n",
       "  </thead>\n",
       "  <tbody>\n",
       "    <tr>\n",
       "      <th>11-G/A</th>\n",
       "      <td>11</td>\n",
       "      <td>G</td>\n",
       "      <td>A</td>\n",
       "      <td>short-I</td>\n",
       "      <td>Intron</td>\n",
       "    </tr>\n",
       "    <tr>\n",
       "      <th>16-T/C</th>\n",
       "      <td>16</td>\n",
       "      <td>T</td>\n",
       "      <td>C</td>\n",
       "      <td>short-I</td>\n",
       "      <td>Intron</td>\n",
       "    </tr>\n",
       "    <tr>\n",
       "      <th>17-G/A</th>\n",
       "      <td>17</td>\n",
       "      <td>G</td>\n",
       "      <td>A</td>\n",
       "      <td>short-I</td>\n",
       "      <td>Intron</td>\n",
       "    </tr>\n",
       "  </tbody>\n",
       "</table>\n",
       "</div>"
      ],
      "text/plain": [
       "             Pos Ref Variant  mylocus  coding\n",
       "pos-ref/var                                  \n",
       "11-G/A        11   G       A  short-I  Intron\n",
       "16-T/C        16   T       C  short-I  Intron\n",
       "17-G/A        17   G       A  short-I  Intron"
      ]
     },
     "execution_count": 18,
     "metadata": {},
     "output_type": "execute_result"
    }
   ],
   "source": [
    "locus_table.head(3)"
   ]
  },
  {
   "cell_type": "code",
   "execution_count": 19,
   "id": "8c81ac11-7e66-433e-b46f-9cf5bad67c3b",
   "metadata": {
    "tags": []
   },
   "outputs": [
    {
     "data": {
      "text/plain": [
       "(1421, 5)"
      ]
     },
     "execution_count": 19,
     "metadata": {},
     "output_type": "execute_result"
    }
   ],
   "source": [
    "locus_table_filtered = locus_table[locus_table.index.isin(filtered_result.columns)]\n",
    "locus_table_filtered.shape"
   ]
  },
  {
   "cell_type": "markdown",
   "id": "57763f72-f5ee-4882-adca-8ffccac8c3f4",
   "metadata": {
    "tags": []
   },
   "source": [
    "# New Exon variant compared with Coassin table S9"
   ]
  },
  {
   "cell_type": "code",
   "execution_count": 20,
   "id": "1fde3e2d-2cf7-4252-b28f-5ffe2b319482",
   "metadata": {
    "jp-MarkdownHeadingCollapsed": true,
    "tags": []
   },
   "outputs": [],
   "source": [
    "coassin_paper_exon = pd.read_csv(\n",
    "    source_path(\"LPA_analysis/dataset/Coassin_exon_from_excel_OCR_tidied.csv\"), \n",
    "    index_col = 0)"
   ]
  },
  {
   "cell_type": "code",
   "execution_count": 21,
   "id": "85723a7a-e7b4-4b11-b275-4850fb919890",
   "metadata": {},
   "outputs": [
    {
     "data": {
      "text/plain": [
       "(208, 1)"
      ]
     },
     "execution_count": 21,
     "metadata": {},
     "output_type": "execute_result"
    }
   ],
   "source": [
    "coassin_paper_exon.shape"
   ]
  },
  {
   "cell_type": "code",
   "execution_count": 22,
   "id": "3e02929a-cde6-423e-b7f7-127b7e683f04",
   "metadata": {
    "tags": []
   },
   "outputs": [
    {
     "data": {
      "text/html": [
       "<div>\n",
       "<style scoped>\n",
       "    .dataframe tbody tr th:only-of-type {\n",
       "        vertical-align: middle;\n",
       "    }\n",
       "\n",
       "    .dataframe tbody tr th {\n",
       "        vertical-align: top;\n",
       "    }\n",
       "\n",
       "    .dataframe thead th {\n",
       "        text-align: right;\n",
       "    }\n",
       "</style>\n",
       "<table border=\"1\" class=\"dataframe\">\n",
       "  <thead>\n",
       "    <tr style=\"text-align: right;\">\n",
       "      <th></th>\n",
       "      <th>pos-ref/var</th>\n",
       "    </tr>\n",
       "  </thead>\n",
       "  <tbody>\n",
       "    <tr>\n",
       "      <th>0</th>\n",
       "      <td>584-C/T</td>\n",
       "    </tr>\n",
       "    <tr>\n",
       "      <th>1</th>\n",
       "      <td>584-C/A</td>\n",
       "    </tr>\n",
       "    <tr>\n",
       "      <th>2</th>\n",
       "      <td>584-C/G</td>\n",
       "    </tr>\n",
       "    <tr>\n",
       "      <th>3</th>\n",
       "      <td>585-G/T</td>\n",
       "    </tr>\n",
       "    <tr>\n",
       "      <th>4</th>\n",
       "      <td>586-A/C</td>\n",
       "    </tr>\n",
       "  </tbody>\n",
       "</table>\n",
       "</div>"
      ],
      "text/plain": [
       "  pos-ref/var\n",
       "0     584-C/T\n",
       "1     584-C/A\n",
       "2     584-C/G\n",
       "3     585-G/T\n",
       "4     586-A/C"
      ]
     },
     "execution_count": 22,
     "metadata": {},
     "output_type": "execute_result"
    }
   ],
   "source": [
    "# find the Exons in our table\n",
    "locus_exon = locus_table_filtered[locus_table_filtered[\"coding\"] == \"Exon\"].index.drop_duplicates()\n",
    "# find the pros-ref/var in our exon but not in coassin's report\n",
    "new = pd.DataFrame(locus_exon[~locus_exon.isin(coassin_paper_exon)])\n",
    "new.head()"
   ]
  },
  {
   "cell_type": "markdown",
   "id": "7acffabf-17fa-4798-9a6a-a1171716b388",
   "metadata": {},
   "source": [
    "# Freq and appearance"
   ]
  },
  {
   "cell_type": "code",
   "execution_count": 23,
   "id": "cc359059-f670-485b-b003-f3286de43476",
   "metadata": {},
   "outputs": [
    {
     "name": "stdout",
     "output_type": "stream",
     "text": [
      "A generator computing relative frequency of SNP carrier by group\n",
      "\n",
      "Common usage:\n",
      "\n",
      "Given two pandas.DataFrame\n",
      "\n",
      "* ``class_info_table`` has one have columns <class_variable> indicate the group\n",
      "* ``one_hot_table`` has all one-hot-variables(SNPs encoding),\n",
      "\n",
      "Compute the SNPs frequency in each class defined in <class_variable>::\n",
      "\n",
      "    ftg = freq_table_generator.FreqTableGenerator(\n",
      "        threshold = 0.01\n",
      "        encoding = {0: \"Not Detected\",\n",
      "                    1: \"Rare\",\n",
      "                    2: \"Common\"})\n",
      "\n",
      "    freq_table = ftg.generate_freq_table(\n",
      "        class_info_table = class_info_table,\n",
      "        one_hot_table = one_hot_table,\n",
      "        class_variable = \"<class_variable>\"\n",
      "        class_variable_list = [\"<class_name_1>\",\"<class_name_2>\",...]\n",
      "        #if only need a part of <class_variable> column\n",
      "        )\n",
      "\n",
      "if need a rarity classification as columns as well::\n",
      "\n",
      "    freq_table_with_rarity = ftg.generate_freq_table_with_rarity(\n",
      "        class_info_table = class_info_table,\n",
      "        one_hot_table = one_hot_table,\n",
      "        class_variable = \"<class_variable>\"\n",
      "        class_variable_list = [\"<class_name_1>\",\"<class_name_2>\",...]\n",
      "        #if only need a part of <class_variable> column\n",
      "        )\n",
      "\n",
      "Where threshold and encoding are for generating rarity:\n",
      "\n",
      "* if the threshold < freq < 1- threshold, it will be encoded as 2\n",
      "* if the 0 < freq < threshold or 1 - threshold < freq < 1, it will be encoded as 1\n",
      "* if freq = 0 or freq = 1, it will be 0.\n",
      "\n",
      "Thus for encoding, please only modify the value, not the key.\n",
      "\n"
     ]
    }
   ],
   "source": [
    "from lpa_pipeline import freq_table_generator\n",
    "print(freq_table_generator.__doc__)"
   ]
  },
  {
   "cell_type": "code",
   "execution_count": 24,
   "id": "769d68d3-7f0c-47fa-8f3d-b55b961f3eef",
   "metadata": {},
   "outputs": [],
   "source": [
    "ftg = freq_table_generator.FreqTableGenerator()"
   ]
  },
  {
   "cell_type": "code",
   "execution_count": 25,
   "id": "6b61aa49-77c8-4fee-a682-929898922385",
   "metadata": {},
   "outputs": [
    {
     "data": {
      "text/html": [
       "<div>\n",
       "<style scoped>\n",
       "    .dataframe tbody tr th:only-of-type {\n",
       "        vertical-align: middle;\n",
       "    }\n",
       "\n",
       "    .dataframe tbody tr th {\n",
       "        vertical-align: top;\n",
       "    }\n",
       "\n",
       "    .dataframe thead th {\n",
       "        text-align: right;\n",
       "    }\n",
       "</style>\n",
       "<table border=\"1\" class=\"dataframe\">\n",
       "  <thead>\n",
       "    <tr style=\"text-align: right;\">\n",
       "      <th></th>\n",
       "      <th>PC1</th>\n",
       "      <th>PC2</th>\n",
       "      <th>PC3</th>\n",
       "      <th>ethnicity</th>\n",
       "    </tr>\n",
       "  </thead>\n",
       "  <tbody>\n",
       "    <tr>\n",
       "      <th>0</th>\n",
       "      <td>-0.0113</td>\n",
       "      <td>0.0170</td>\n",
       "      <td>-0.0402</td>\n",
       "      <td>AF</td>\n",
       "    </tr>\n",
       "    <tr>\n",
       "      <th>1</th>\n",
       "      <td>-0.0414</td>\n",
       "      <td>0.0200</td>\n",
       "      <td>-0.0290</td>\n",
       "      <td>EU</td>\n",
       "    </tr>\n",
       "    <tr>\n",
       "      <th>2</th>\n",
       "      <td>0.0344</td>\n",
       "      <td>-0.0184</td>\n",
       "      <td>0.0465</td>\n",
       "      <td>AF</td>\n",
       "    </tr>\n",
       "  </tbody>\n",
       "</table>\n",
       "</div>"
      ],
      "text/plain": [
       "      PC1     PC2     PC3 ethnicity\n",
       "0 -0.0113  0.0170 -0.0402        AF\n",
       "1 -0.0414  0.0200 -0.0290        EU\n",
       "2  0.0344 -0.0184  0.0465        AF"
      ]
     },
     "execution_count": 25,
     "metadata": {},
     "output_type": "execute_result"
    }
   ],
   "source": [
    "#removed the index for illustration, the table should have index for aligning!\n",
    "eigen_result_aligned.head(3).reset_index(drop = True) "
   ]
  },
  {
   "cell_type": "code",
   "execution_count": 26,
   "id": "138df2b7-6122-4c28-b28b-6bd6292092eb",
   "metadata": {
    "tags": []
   },
   "outputs": [],
   "source": [
    "freq_table_complete = ftg.generate_freq_table_with_rarity(\n",
    "                        one_hot_table = filtered_result,\n",
    "                        class_info_table = eigen_result_aligned,\n",
    "                        class_variable = \"ethnicity\"\n",
    "                        )"
   ]
  },
  {
   "cell_type": "code",
   "execution_count": 27,
   "id": "c7984486-e1b0-4441-ac11-ecb29a2e99cd",
   "metadata": {},
   "outputs": [
    {
     "data": {
      "text/html": [
       "<div>\n",
       "<style scoped>\n",
       "    .dataframe tbody tr th:only-of-type {\n",
       "        vertical-align: middle;\n",
       "    }\n",
       "\n",
       "    .dataframe tbody tr th {\n",
       "        vertical-align: top;\n",
       "    }\n",
       "\n",
       "    .dataframe thead th {\n",
       "        text-align: right;\n",
       "    }\n",
       "</style>\n",
       "<table border=\"1\" class=\"dataframe\">\n",
       "  <thead>\n",
       "    <tr style=\"text-align: right;\">\n",
       "      <th></th>\n",
       "      <th>count_AF</th>\n",
       "      <th>total_AF_detected</th>\n",
       "      <th>total_AF_population</th>\n",
       "      <th>freq_AF</th>\n",
       "      <th>count_EU</th>\n",
       "      <th>total_EU_detected</th>\n",
       "      <th>total_EU_population</th>\n",
       "      <th>freq_EU</th>\n",
       "      <th>count_HISP</th>\n",
       "      <th>total_HISP_detected</th>\n",
       "      <th>total_HISP_population</th>\n",
       "      <th>freq_HISP</th>\n",
       "      <th>AF</th>\n",
       "      <th>EU</th>\n",
       "      <th>HISP</th>\n",
       "    </tr>\n",
       "    <tr>\n",
       "      <th>snp_pos</th>\n",
       "      <th></th>\n",
       "      <th></th>\n",
       "      <th></th>\n",
       "      <th></th>\n",
       "      <th></th>\n",
       "      <th></th>\n",
       "      <th></th>\n",
       "      <th></th>\n",
       "      <th></th>\n",
       "      <th></th>\n",
       "      <th></th>\n",
       "      <th></th>\n",
       "      <th></th>\n",
       "      <th></th>\n",
       "      <th></th>\n",
       "    </tr>\n",
       "  </thead>\n",
       "  <tbody>\n",
       "    <tr>\n",
       "      <th>21-G/A</th>\n",
       "      <td>346.0</td>\n",
       "      <td>988</td>\n",
       "      <td>1120</td>\n",
       "      <td>0.350202</td>\n",
       "      <td>388.0</td>\n",
       "      <td>815</td>\n",
       "      <td>886</td>\n",
       "      <td>0.476074</td>\n",
       "      <td>945.0</td>\n",
       "      <td>1769</td>\n",
       "      <td>1811</td>\n",
       "      <td>0.534200</td>\n",
       "      <td>Common</td>\n",
       "      <td>Common</td>\n",
       "      <td>Common</td>\n",
       "    </tr>\n",
       "    <tr>\n",
       "      <th>31-T/C</th>\n",
       "      <td>384.0</td>\n",
       "      <td>1009</td>\n",
       "      <td>1120</td>\n",
       "      <td>0.380575</td>\n",
       "      <td>403.0</td>\n",
       "      <td>824</td>\n",
       "      <td>886</td>\n",
       "      <td>0.489078</td>\n",
       "      <td>1015.0</td>\n",
       "      <td>1777</td>\n",
       "      <td>1811</td>\n",
       "      <td>0.571187</td>\n",
       "      <td>Common</td>\n",
       "      <td>Common</td>\n",
       "      <td>Common</td>\n",
       "    </tr>\n",
       "    <tr>\n",
       "      <th>33-T/C</th>\n",
       "      <td>1.0</td>\n",
       "      <td>1010</td>\n",
       "      <td>1120</td>\n",
       "      <td>0.000990</td>\n",
       "      <td>0.0</td>\n",
       "      <td>823</td>\n",
       "      <td>886</td>\n",
       "      <td>0.000000</td>\n",
       "      <td>0.0</td>\n",
       "      <td>1779</td>\n",
       "      <td>1811</td>\n",
       "      <td>0.000000</td>\n",
       "      <td>Rare</td>\n",
       "      <td>Not Detected</td>\n",
       "      <td>Not Detected</td>\n",
       "    </tr>\n",
       "  </tbody>\n",
       "</table>\n",
       "</div>"
      ],
      "text/plain": [
       "         count_AF  total_AF_detected  total_AF_population   freq_AF  count_EU  \\\n",
       "snp_pos                                                                         \n",
       "21-G/A      346.0                988                 1120  0.350202     388.0   \n",
       "31-T/C      384.0               1009                 1120  0.380575     403.0   \n",
       "33-T/C        1.0               1010                 1120  0.000990       0.0   \n",
       "\n",
       "         total_EU_detected  total_EU_population   freq_EU  count_HISP  \\\n",
       "snp_pos                                                                 \n",
       "21-G/A                 815                  886  0.476074       945.0   \n",
       "31-T/C                 824                  886  0.489078      1015.0   \n",
       "33-T/C                 823                  886  0.000000         0.0   \n",
       "\n",
       "         total_HISP_detected  total_HISP_population  freq_HISP      AF  \\\n",
       "snp_pos                                                                  \n",
       "21-G/A                  1769                   1811   0.534200  Common   \n",
       "31-T/C                  1777                   1811   0.571187  Common   \n",
       "33-T/C                  1779                   1811   0.000000    Rare   \n",
       "\n",
       "                   EU          HISP  \n",
       "snp_pos                              \n",
       "21-G/A         Common        Common  \n",
       "31-T/C         Common        Common  \n",
       "33-T/C   Not Detected  Not Detected  "
      ]
     },
     "execution_count": 27,
     "metadata": {},
     "output_type": "execute_result"
    }
   ],
   "source": [
    "freq_table_complete.head(3)"
   ]
  },
  {
   "cell_type": "code",
   "execution_count": 28,
   "id": "a73fa214-0f22-4c12-96b2-87d0401508d9",
   "metadata": {},
   "outputs": [
    {
     "data": {
      "text/plain": [
       "True     1318\n",
       "False     103\n",
       "Name: Novelty, dtype: int64"
      ]
     },
     "execution_count": 28,
     "metadata": {},
     "output_type": "execute_result"
    }
   ],
   "source": [
    "freq_table_complete[\"Novelty\"] = ~(freq_table_complete.index.isin(coassin_paper_exon[\"pos-ref/var\"]))\n",
    "freq_table_complete[\"Novelty\"].value_counts()"
   ]
  },
  {
   "cell_type": "markdown",
   "id": "13b44413-8e12-4fa1-b53d-b88a411ea72d",
   "metadata": {},
   "source": [
    "# Regression @ N_subject = 27 & N_Var = 1421\n",
    "\n",
    "Serum result Association\n",
    "\n",
    "removed the index for illustration, the table should have index for aligning!"
   ]
  },
  {
   "cell_type": "code",
   "execution_count": 29,
   "id": "0a117de9-e23c-43bf-8439-ecdf1a647fd5",
   "metadata": {},
   "outputs": [
    {
     "data": {
      "text/plain": [
       "(27, 1421)"
      ]
     },
     "execution_count": 29,
     "metadata": {},
     "output_type": "execute_result"
    }
   ],
   "source": [
    "#snps.to_csv(\"/mnt/mfs/hgrcgrid/shared/LPA_analysis/dataset/serum_data/serum_data_snps.csv\")\n",
    "snps = pd.read_csv(\n",
    "    source_path(\"LPA_analysis/dataset/serum_data/serum_data_snps.csv\"), \n",
    "    index_col = 0)\n",
    "snps.shape"
   ]
  },
  {
   "cell_type": "code",
   "execution_count": 30,
   "id": "93fad36c-201d-4e6a-84f4-05f7f857f12a",
   "metadata": {},
   "outputs": [
    {
     "data": {
      "text/html": [
       "<div>\n",
       "<style scoped>\n",
       "    .dataframe tbody tr th:only-of-type {\n",
       "        vertical-align: middle;\n",
       "    }\n",
       "\n",
       "    .dataframe tbody tr th {\n",
       "        vertical-align: top;\n",
       "    }\n",
       "\n",
       "    .dataframe thead th {\n",
       "        text-align: right;\n",
       "    }\n",
       "</style>\n",
       "<table border=\"1\" class=\"dataframe\">\n",
       "  <thead>\n",
       "    <tr style=\"text-align: right;\">\n",
       "      <th></th>\n",
       "      <th>AGE</th>\n",
       "      <th>GENDER</th>\n",
       "      <th>PC1</th>\n",
       "      <th>PC2</th>\n",
       "      <th>PC3</th>\n",
       "    </tr>\n",
       "  </thead>\n",
       "  <tbody>\n",
       "    <tr>\n",
       "      <th>0</th>\n",
       "      <td>93.72</td>\n",
       "      <td>0</td>\n",
       "      <td>0.0310</td>\n",
       "      <td>-0.0025</td>\n",
       "      <td>0.0136</td>\n",
       "    </tr>\n",
       "    <tr>\n",
       "      <th>1</th>\n",
       "      <td>74.00</td>\n",
       "      <td>1</td>\n",
       "      <td>-0.0435</td>\n",
       "      <td>0.0076</td>\n",
       "      <td>0.0145</td>\n",
       "    </tr>\n",
       "    <tr>\n",
       "      <th>2</th>\n",
       "      <td>82.93</td>\n",
       "      <td>1</td>\n",
       "      <td>0.0043</td>\n",
       "      <td>0.0004</td>\n",
       "      <td>0.0135</td>\n",
       "    </tr>\n",
       "  </tbody>\n",
       "</table>\n",
       "</div>"
      ],
      "text/plain": [
       "     AGE  GENDER     PC1     PC2     PC3\n",
       "0  93.72       0  0.0310 -0.0025  0.0136\n",
       "1  74.00       1 -0.0435  0.0076  0.0145\n",
       "2  82.93       1  0.0043  0.0004  0.0135"
      ]
     },
     "execution_count": 30,
     "metadata": {},
     "output_type": "execute_result"
    }
   ],
   "source": [
    "personal_info = pd.read_csv(\n",
    "    source_path(\"LPA_analysis/dataset/serum_data/serum_data_personal_info.csv\"), \n",
    "    index_col = 0)\n",
    "# The index is dropped for illustration purpose\n",
    "personal_info.head(3).reset_index(drop = True)"
   ]
  },
  {
   "cell_type": "code",
   "execution_count": 31,
   "id": "e68f1429-f8c6-4e49-a0f4-ab6b5a103838",
   "metadata": {},
   "outputs": [
    {
     "data": {
      "text/plain": [
       "Index(['lpa', 'Isoform 1 (KIV Motifs)', 'Isoform 2 (KIV Motifs)',\n",
       "       'Isoform 1          (% expression)',\n",
       "       'Isoform 2          (% expression)', 'isoform',\n",
       "       'Isoform 2          (expression)', 'wAS'],\n",
       "      dtype='object')"
      ]
     },
     "execution_count": 31,
     "metadata": {},
     "output_type": "execute_result"
    }
   ],
   "source": [
    "serum_result = pd.read_csv(\n",
    "    source_path(\"LPA_analysis/dataset/serum_data/serum_data_serum.csv\"),\n",
    "    index_col = 0).rename(columns = {\"LP(a) (nmol/L)\": \"lpa\",\n",
    "                                     \"Isoform 1          (expression)\": \"isoform\"})\n",
    "serum_result.columns # don't have to have all these, just what you want"
   ]
  },
  {
   "cell_type": "code",
   "execution_count": 32,
   "id": "6201e884-b3cd-41d5-a7a9-94a1469d9200",
   "metadata": {},
   "outputs": [],
   "source": [
    "from lpa_pipeline import association"
   ]
  },
  {
   "cell_type": "code",
   "execution_count": 33,
   "id": "40969397-c4f6-485a-877f-234228e25c90",
   "metadata": {},
   "outputs": [],
   "source": [
    "serum_asso = association.SNPAssociation()"
   ]
  },
  {
   "cell_type": "code",
   "execution_count": 34,
   "id": "f20f6f45-aca9-4d81-833f-e22b2346dce2",
   "metadata": {},
   "outputs": [
    {
     "name": "stdout",
     "output_type": "stream",
     "text": [
      "This pipeline running an iterative association test for each snps.\n",
      "\n",
      "The iterative strategy is as follows:\n",
      "\n",
      "* for each the target variable in ``target_strategy``\n",
      "    #. Extract the column from ``target_dataset``:\n",
      "    #. run preprocessing, if the value of key ``preprocessing`` is given in ``target_strategy``\n",
      "    #. group the dataset by columns defined by ``extra_iterate_on`` if provided\n",
      "    #. for each group, iterate over columns of ``encoded_snp`` (each SNP):\n",
      "        1. concatenate it with ``other_exogs``, generate the exogenous dataset\n",
      "        2. if ``one_to_one_exogs`` is provided, use ``one_to_one_strategy``\n",
      "           finding other columns and concatenate them as well\n",
      "        3. run regressions specified by ``target_strategy``.engine\n",
      "        4. combine the results from each SNP\n",
      "        5. save the regression output\n",
      "\n",
      "Two APIs provided\n",
      " * sklearn style:\n",
      "\n",
      "     * 3-line style::\n",
      "\n",
      "        snp_asso = SNPAssociation()\n",
      "        snp_asso.fit(**kwargs)\n",
      "        snp_asso.transform()\n",
      "\n",
      "     * 2-line style::\n",
      "\n",
      "        snp_asso = SNPAssociation()\n",
      "        snp_asso.fit_transform(**kwargs)\n",
      "\n",
      " * function style::\n",
      "\n",
      "        snp_asso = SNPAssociation()\n",
      "        snp_asso.association_test(**kwargs_1) #kwargs_1 can be new kwargs\n",
      "\n"
     ]
    }
   ],
   "source": [
    "print(association.__doc__)"
   ]
  },
  {
   "cell_type": "code",
   "execution_count": 35,
   "id": "c6d60fa1-77dc-4db7-a83a-39b49f42c33d",
   "metadata": {},
   "outputs": [
    {
     "name": "stdout",
     "output_type": "stream",
     "text": [
      "API setting up the regression (not running)\n",
      "\n",
      "        Args:\n",
      "\n",
      "            encoded_snp: pd.DataFrame, the dataframe to be looped on columns\n",
      "\n",
      "            other_exog: pd.DataFrame, the dataframe taking all the other variables\n",
      "\n",
      "            target_dataset: pd.DataFrame, the dataframe taking all the target variables\n",
      "\n",
      "            target_strategy: dict[str, dict[str, funcs or models]],\n",
      "                 The dictionary provide pre-processing to specific column,\n",
      "                 Only column mentioned in keys will be included in the running.\n",
      "                 The inner dictionary should have two keys:\n",
      "\n",
      "                 \"engine\": statsmodels.api models\n",
      "                     designed for statsmodels.discrete.discrete_model.Logit or\n",
      "                     statsmodels.regression.linear_model.OLS,\n",
      "                     but any model's .fit results provide .params .bse .pvalues will work\n",
      "\n",
      "                 \"preprocessing\": funcs\n",
      "                     the function should take a pd.DataFrame/pd.Series as input\n",
      "                     and a pd.DataFrame/pd.Series as output,\n",
      "                     If this strategy is None, the column will be used as\n",
      "                     exogenous variables as-is\n",
      "\n",
      "            output_path: str, the output root path,\n",
      "                         the saving name will be printed for reference\n",
      "\n",
      "            snp_alias: Optional[str], the name used for snp column in output DataFrame\n",
      "\n",
      "            one_to_one_exogs: Optional[pd.DataFrame], the dataframe providing\n",
      "                              specific exog variable based on encoded_snp\n",
      "\n",
      "            one_to_one_strategy: Optional[funcs], when given a snp name, this\n",
      "                                 function should output the corresponding\n",
      "                                 one_to_one_exogs column name\n",
      "\n",
      "            one_to_one_alias: Optional[str]: the name used for one-to-one variables\n",
      "                              in output DataFrame\n",
      "\n",
      "            NA_strategy: Optional[str], the strategy statsmodels dealing with NAs,\n",
      "                         Available options are ‘none’, ‘drop’, and ‘raise’.\n",
      "                         If ‘none’, no nan checking is done.\n",
      "                         If ‘drop’, any observations with nans are dropped.\n",
      "                         If ‘raise’, an error is raised.\n",
      "\n",
      "            group_NA_strategy: Optional[str], how NA_strategy apply when have\n",
      "                               extra_iterate_on, can be \"snp-wise\" or \"group-wise\",\n",
      "                               it's working for status when NA_strategy == \"drop\"\n",
      "\n",
      "            extra_iterate_on: Optional[list], the list of extra iterate variable in other_exog\n",
      "                              please be noticed that it may cause severe explosions in running time\n",
      "\n",
      "            snps_preprocessing_strategy: Optional[funcs], the preprocessing appied to snps\n",
      "                           before the regression analysis\n",
      "                           this function should take a pd.DataFrame as input and output\n",
      "\n",
      "            meta_info: Optional[bool]: default True\n",
      "                     if true, provide the frequencies, total, counts data useful for\n",
      "                     meta analysis(METAL)\n",
      "\n",
      "            verbose: Optional[int] in {0,1} default 0\n",
      "                     if verbose = 1, the regression will give the saving path\n",
      "        \n"
     ]
    }
   ],
   "source": [
    "print(serum_asso.fit.__doc__)"
   ]
  },
  {
   "cell_type": "code",
   "execution_count": 36,
   "id": "e08ea133-8921-485c-a329-451c153a938c",
   "metadata": {},
   "outputs": [
    {
     "name": "stdout",
     "output_type": "stream",
     "text": [
      "The filter C on existing frequency,\n",
      "\n",
      "    both 0 and 1 should appear for more than <threshold> times\n",
      "\n",
      "    Args:\n",
      "        df: pandas DataFrame, the index should be the Sample ID, and the columns are the snps\n",
      "        threshold: int, the number threshold that both 0 and 1 should appear more than this number\n",
      "    \n"
     ]
    }
   ],
   "source": [
    "print(association.filter_C.__doc__)"
   ]
  },
  {
   "cell_type": "code",
   "execution_count": 37,
   "id": "a38fba49-25d5-40bd-9442-ba16f2f0de28",
   "metadata": {},
   "outputs": [
    {
     "data": {
      "application/vnd.jupyter.widget-view+json": {
       "model_id": "430bbcec049142daac715c05ebf74561",
       "version_major": 2,
       "version_minor": 0
      },
      "text/plain": [
       "  0%|          | 0/3 [00:00<?, ?it/s]"
      ]
     },
     "metadata": {},
     "output_type": "display_data"
    },
    {
     "data": {
      "application/vnd.jupyter.widget-view+json": {
       "model_id": "",
       "version_major": 2,
       "version_minor": 0
      },
      "text/plain": [
       "  0%|          | 0/1421 [00:00<?, ?it/s]"
      ]
     },
     "metadata": {},
     "output_type": "display_data"
    },
    {
     "name": "stdout",
     "output_type": "stream",
     "text": [
      "/mnt/vast/hpc/bvardarajan_lab/LPA_analysis/data_analysis_result/association/illustrate_run/serum/lpa_OLS_N_snp=107.csv/.txt saved\n"
     ]
    },
    {
     "data": {
      "application/vnd.jupyter.widget-view+json": {
       "model_id": "",
       "version_major": 2,
       "version_minor": 0
      },
      "text/plain": [
       "  0%|          | 0/1421 [00:00<?, ?it/s]"
      ]
     },
     "metadata": {},
     "output_type": "display_data"
    },
    {
     "name": "stdout",
     "output_type": "stream",
     "text": [
      "/mnt/vast/hpc/bvardarajan_lab/LPA_analysis/data_analysis_result/association/illustrate_run/serum/wAS_OLS_N_snp=107.csv/.txt saved\n"
     ]
    },
    {
     "data": {
      "application/vnd.jupyter.widget-view+json": {
       "model_id": "",
       "version_major": 2,
       "version_minor": 0
      },
      "text/plain": [
       "  0%|          | 0/1421 [00:00<?, ?it/s]"
      ]
     },
     "metadata": {},
     "output_type": "display_data"
    },
    {
     "name": "stdout",
     "output_type": "stream",
     "text": [
      "/mnt/vast/hpc/bvardarajan_lab/LPA_analysis/data_analysis_result/association/illustrate_run/serum/isoform_OLS_N_snp=107.csv/.txt saved\n"
     ]
    }
   ],
   "source": [
    "serum_asso.fit_transform(\n",
    "    encoded_snp = snps, \n",
    "    other_exogs = personal_info,\n",
    "    target_dataset = serum_result,\n",
    "    target_strategy = association.target_strategy_serum(),\n",
    "    output_path = source_path(\"LPA_analysis/data_analysis_result/association/illustrate_run/serum\"),\n",
    "    snps_preprocessing_strategy = association.filter_C,\n",
    "    verbose = 1\n",
    ")"
   ]
  },
  {
   "cell_type": "markdown",
   "id": "cb044481-c955-4aec-a825-fc6f9e7ae715",
   "metadata": {},
   "source": [
    "# Regression @ N_subject = 3774 & N_Var = 1421\n",
    "\n",
    "SNP - Phenotype correlation"
   ]
  },
  {
   "cell_type": "code",
   "execution_count": 38,
   "id": "f0ca4c4b-6871-41db-b99e-99b35e8335f2",
   "metadata": {},
   "outputs": [],
   "source": [
    "personal_info = pd.read_csv(\n",
    "    source_path(\"LPA_analysis/dataset/phenotypes/WHICAP_pheno_lpa_202306022.csv\"), \n",
    "    index_col = 0)\n",
    "personal_info.set_index(\"WES_ID\", inplace= True)\n",
    "personal_info = personal_info[(~personal_info[\"AGE\"].isna()) & (~personal_info[\"DEM03\"].isna())]"
   ]
  },
  {
   "cell_type": "markdown",
   "id": "809024d6-0b3a-485d-85b0-4e7a124e4e72",
   "metadata": {},
   "source": [
    "The personal_info table has some subjects with NA age and Gender, just pick the all non-NA part, align"
   ]
  },
  {
   "cell_type": "code",
   "execution_count": 39,
   "id": "3f2b79e7-a69b-4dac-933f-4b870ce433d7",
   "metadata": {},
   "outputs": [
    {
     "name": "stdout",
     "output_type": "stream",
     "text": [
      "(3774, 1421) (3774, 22) (3774, 4)\n"
     ]
    }
   ],
   "source": [
    "encoding_aligned, personal_info_aligned = filtered_result.align(personal_info, join = \"inner\", axis = 0)\n",
    "eigen_aligned, personal_info_aligned = eigen_result_aligned.align(personal_info, join = \"inner\", axis = 0)\n",
    "print(encoding_aligned.shape, personal_info_aligned.shape, eigen_aligned.shape)"
   ]
  },
  {
   "cell_type": "code",
   "execution_count": 40,
   "id": "06ed27c4-60cd-4ab0-8f30-b514a6e9d139",
   "metadata": {},
   "outputs": [
    {
     "data": {
      "text/html": [
       "<div>\n",
       "<style scoped>\n",
       "    .dataframe tbody tr th:only-of-type {\n",
       "        vertical-align: middle;\n",
       "    }\n",
       "\n",
       "    .dataframe tbody tr th {\n",
       "        vertical-align: top;\n",
       "    }\n",
       "\n",
       "    .dataframe thead th {\n",
       "        text-align: right;\n",
       "    }\n",
       "</style>\n",
       "<table border=\"1\" class=\"dataframe\">\n",
       "  <thead>\n",
       "    <tr style=\"text-align: right;\">\n",
       "      <th></th>\n",
       "      <th>GENDER</th>\n",
       "      <th>AGE</th>\n",
       "      <th>PC1</th>\n",
       "      <th>PC2</th>\n",
       "      <th>PC3</th>\n",
       "      <th>ethnicity</th>\n",
       "    </tr>\n",
       "  </thead>\n",
       "  <tbody>\n",
       "    <tr>\n",
       "      <th>0</th>\n",
       "      <td>0</td>\n",
       "      <td>81.0</td>\n",
       "      <td>-0.0113</td>\n",
       "      <td>0.0170</td>\n",
       "      <td>-0.0402</td>\n",
       "      <td>AF</td>\n",
       "    </tr>\n",
       "    <tr>\n",
       "      <th>1</th>\n",
       "      <td>1</td>\n",
       "      <td>77.0</td>\n",
       "      <td>-0.0414</td>\n",
       "      <td>0.0200</td>\n",
       "      <td>-0.0290</td>\n",
       "      <td>EU</td>\n",
       "    </tr>\n",
       "    <tr>\n",
       "      <th>2</th>\n",
       "      <td>1</td>\n",
       "      <td>71.0</td>\n",
       "      <td>0.0344</td>\n",
       "      <td>-0.0184</td>\n",
       "      <td>0.0465</td>\n",
       "      <td>AF</td>\n",
       "    </tr>\n",
       "  </tbody>\n",
       "</table>\n",
       "</div>"
      ],
      "text/plain": [
       "   GENDER   AGE     PC1     PC2     PC3 ethnicity\n",
       "0       0  81.0 -0.0113  0.0170 -0.0402        AF\n",
       "1       1  77.0 -0.0414  0.0200 -0.0290        EU\n",
       "2       1  71.0  0.0344 -0.0184  0.0465        AF"
      ]
     },
     "execution_count": 40,
     "metadata": {},
     "output_type": "execute_result"
    }
   ],
   "source": [
    "other_exogs = pd.concat([personal_info_aligned[[\"DEM03\", \"AGE\"]], eigen_aligned], \n",
    "                        axis = 1).rename(columns = {\"DEM03\": \"GENDER\"})\n",
    "other_exogs.head(3).reset_index(drop = True)"
   ]
  },
  {
   "cell_type": "code",
   "execution_count": 41,
   "id": "debc34d3-b298-4624-9190-d238a295abcb",
   "metadata": {
    "tags": []
   },
   "outputs": [
    {
     "data": {
      "text/plain": [
       "1.0    1986\n",
       "2.0    1738\n",
       "3.0      50\n",
       "Name: DEMENTIA, dtype: int64"
      ]
     },
     "execution_count": 41,
     "metadata": {},
     "output_type": "execute_result"
    }
   ],
   "source": [
    "personal_info_aligned.DEMENTIA.value_counts()"
   ]
  },
  {
   "cell_type": "code",
   "execution_count": 42,
   "id": "8bb3b56d-413f-44ab-aead-36b5a12b8ce0",
   "metadata": {},
   "outputs": [
    {
     "data": {
      "text/html": [
       "<div>\n",
       "<style scoped>\n",
       "    .dataframe tbody tr th:only-of-type {\n",
       "        vertical-align: middle;\n",
       "    }\n",
       "\n",
       "    .dataframe tbody tr th {\n",
       "        vertical-align: top;\n",
       "    }\n",
       "\n",
       "    .dataframe thead th {\n",
       "        text-align: right;\n",
       "    }\n",
       "</style>\n",
       "<table border=\"1\" class=\"dataframe\">\n",
       "  <thead>\n",
       "    <tr style=\"text-align: right;\">\n",
       "      <th></th>\n",
       "      <th>STROKE</th>\n",
       "      <th>DEMENTIA</th>\n",
       "      <th>DIABETES</th>\n",
       "      <th>HEART</th>\n",
       "      <th>HYPERTENSION</th>\n",
       "      <th>LIP01_B</th>\n",
       "      <th>LIP02_B</th>\n",
       "      <th>LIP03_B</th>\n",
       "      <th>LIP04_2</th>\n",
       "      <th>INSL01_2</th>\n",
       "      <th>INSL02_2</th>\n",
       "      <th>INSL03_2</th>\n",
       "      <th>HBA1C_2</th>\n",
       "    </tr>\n",
       "  </thead>\n",
       "  <tbody>\n",
       "    <tr>\n",
       "      <th>0</th>\n",
       "      <td>0.0</td>\n",
       "      <td>1.0</td>\n",
       "      <td>0</td>\n",
       "      <td>0</td>\n",
       "      <td>1</td>\n",
       "      <td>NaN</td>\n",
       "      <td>NaN</td>\n",
       "      <td>NaN</td>\n",
       "      <td>95.0</td>\n",
       "      <td>83.0</td>\n",
       "      <td>10.3</td>\n",
       "      <td>5.82</td>\n",
       "      <td>6.37</td>\n",
       "    </tr>\n",
       "    <tr>\n",
       "      <th>1</th>\n",
       "      <td>0.0</td>\n",
       "      <td>2.0</td>\n",
       "      <td>0</td>\n",
       "      <td>1</td>\n",
       "      <td>1</td>\n",
       "      <td>NaN</td>\n",
       "      <td>NaN</td>\n",
       "      <td>NaN</td>\n",
       "      <td>NaN</td>\n",
       "      <td>NaN</td>\n",
       "      <td>NaN</td>\n",
       "      <td>NaN</td>\n",
       "      <td>NaN</td>\n",
       "    </tr>\n",
       "    <tr>\n",
       "      <th>2</th>\n",
       "      <td>0.0</td>\n",
       "      <td>2.0</td>\n",
       "      <td>0</td>\n",
       "      <td>0</td>\n",
       "      <td>1</td>\n",
       "      <td>NaN</td>\n",
       "      <td>NaN</td>\n",
       "      <td>NaN</td>\n",
       "      <td>NaN</td>\n",
       "      <td>NaN</td>\n",
       "      <td>NaN</td>\n",
       "      <td>NaN</td>\n",
       "      <td>NaN</td>\n",
       "    </tr>\n",
       "    <tr>\n",
       "      <th>3</th>\n",
       "      <td>0.0</td>\n",
       "      <td>2.0</td>\n",
       "      <td>0</td>\n",
       "      <td>0</td>\n",
       "      <td>1</td>\n",
       "      <td>NaN</td>\n",
       "      <td>NaN</td>\n",
       "      <td>NaN</td>\n",
       "      <td>NaN</td>\n",
       "      <td>NaN</td>\n",
       "      <td>NaN</td>\n",
       "      <td>NaN</td>\n",
       "      <td>NaN</td>\n",
       "    </tr>\n",
       "    <tr>\n",
       "      <th>4</th>\n",
       "      <td>0.0</td>\n",
       "      <td>1.0</td>\n",
       "      <td>0</td>\n",
       "      <td>1</td>\n",
       "      <td>1</td>\n",
       "      <td>NaN</td>\n",
       "      <td>NaN</td>\n",
       "      <td>NaN</td>\n",
       "      <td>NaN</td>\n",
       "      <td>NaN</td>\n",
       "      <td>NaN</td>\n",
       "      <td>NaN</td>\n",
       "      <td>NaN</td>\n",
       "    </tr>\n",
       "  </tbody>\n",
       "</table>\n",
       "</div>"
      ],
      "text/plain": [
       "   STROKE  DEMENTIA  DIABETES  HEART  HYPERTENSION  LIP01_B  LIP02_B  LIP03_B  \\\n",
       "0     0.0       1.0         0      0             1      NaN      NaN      NaN   \n",
       "1     0.0       2.0         0      1             1      NaN      NaN      NaN   \n",
       "2     0.0       2.0         0      0             1      NaN      NaN      NaN   \n",
       "3     0.0       2.0         0      0             1      NaN      NaN      NaN   \n",
       "4     0.0       1.0         0      1             1      NaN      NaN      NaN   \n",
       "\n",
       "   LIP04_2  INSL01_2  INSL02_2  INSL03_2  HBA1C_2  \n",
       "0     95.0      83.0      10.3      5.82     6.37  \n",
       "1      NaN       NaN       NaN       NaN      NaN  \n",
       "2      NaN       NaN       NaN       NaN      NaN  \n",
       "3      NaN       NaN       NaN       NaN      NaN  \n",
       "4      NaN       NaN       NaN       NaN      NaN  "
      ]
     },
     "execution_count": 42,
     "metadata": {},
     "output_type": "execute_result"
    }
   ],
   "source": [
    "phenotypes = personal_info_aligned[list(association.target_strategy().keys())]\n",
    "phenotypes.tail(5).reset_index(drop = True)"
   ]
  },
  {
   "cell_type": "code",
   "execution_count": 43,
   "id": "21f82d0d-617d-49bc-895a-d861d0ec80fd",
   "metadata": {},
   "outputs": [],
   "source": [
    "snp_asso = association.SNPAssociation()"
   ]
  },
  {
   "cell_type": "code",
   "execution_count": 44,
   "id": "b557074d-8ff9-4922-b142-6b544eca0b37",
   "metadata": {},
   "outputs": [
    {
     "data": {
      "application/vnd.jupyter.widget-view+json": {
       "model_id": "aba3bfe2c89e44baba9a85a4e8b218d2",
       "version_major": 2,
       "version_minor": 0
      },
      "text/plain": [
       "  0%|          | 0/13 [00:00<?, ?it/s]"
      ]
     },
     "metadata": {},
     "output_type": "display_data"
    },
    {
     "data": {
      "application/vnd.jupyter.widget-view+json": {
       "model_id": "",
       "version_major": 2,
       "version_minor": 0
      },
      "text/plain": [
       "  0%|          | 0/3 [00:00<?, ?it/s]"
      ]
     },
     "metadata": {},
     "output_type": "display_data"
    },
    {
     "data": {
      "application/vnd.jupyter.widget-view+json": {
       "model_id": "",
       "version_major": 2,
       "version_minor": 0
      },
      "text/plain": [
       "  0%|          | 0/1421 [00:00<?, ?it/s]"
      ]
     },
     "metadata": {},
     "output_type": "display_data"
    },
    {
     "data": {
      "application/vnd.jupyter.widget-view+json": {
       "model_id": "",
       "version_major": 2,
       "version_minor": 0
      },
      "text/plain": [
       "  0%|          | 0/1421 [00:00<?, ?it/s]"
      ]
     },
     "metadata": {},
     "output_type": "display_data"
    },
    {
     "data": {
      "application/vnd.jupyter.widget-view+json": {
       "model_id": "",
       "version_major": 2,
       "version_minor": 0
      },
      "text/plain": [
       "  0%|          | 0/1421 [00:00<?, ?it/s]"
      ]
     },
     "metadata": {},
     "output_type": "display_data"
    },
    {
     "data": {
      "application/vnd.jupyter.widget-view+json": {
       "model_id": "",
       "version_major": 2,
       "version_minor": 0
      },
      "text/plain": [
       "  0%|          | 0/3 [00:00<?, ?it/s]"
      ]
     },
     "metadata": {},
     "output_type": "display_data"
    },
    {
     "data": {
      "application/vnd.jupyter.widget-view+json": {
       "model_id": "",
       "version_major": 2,
       "version_minor": 0
      },
      "text/plain": [
       "  0%|          | 0/1421 [00:00<?, ?it/s]"
      ]
     },
     "metadata": {},
     "output_type": "display_data"
    },
    {
     "data": {
      "application/vnd.jupyter.widget-view+json": {
       "model_id": "",
       "version_major": 2,
       "version_minor": 0
      },
      "text/plain": [
       "  0%|          | 0/1421 [00:00<?, ?it/s]"
      ]
     },
     "metadata": {},
     "output_type": "display_data"
    },
    {
     "data": {
      "application/vnd.jupyter.widget-view+json": {
       "model_id": "",
       "version_major": 2,
       "version_minor": 0
      },
      "text/plain": [
       "  0%|          | 0/1421 [00:00<?, ?it/s]"
      ]
     },
     "metadata": {},
     "output_type": "display_data"
    },
    {
     "data": {
      "application/vnd.jupyter.widget-view+json": {
       "model_id": "",
       "version_major": 2,
       "version_minor": 0
      },
      "text/plain": [
       "  0%|          | 0/3 [00:00<?, ?it/s]"
      ]
     },
     "metadata": {},
     "output_type": "display_data"
    },
    {
     "data": {
      "application/vnd.jupyter.widget-view+json": {
       "model_id": "",
       "version_major": 2,
       "version_minor": 0
      },
      "text/plain": [
       "  0%|          | 0/1421 [00:00<?, ?it/s]"
      ]
     },
     "metadata": {},
     "output_type": "display_data"
    },
    {
     "data": {
      "application/vnd.jupyter.widget-view+json": {
       "model_id": "",
       "version_major": 2,
       "version_minor": 0
      },
      "text/plain": [
       "  0%|          | 0/1421 [00:00<?, ?it/s]"
      ]
     },
     "metadata": {},
     "output_type": "display_data"
    },
    {
     "data": {
      "application/vnd.jupyter.widget-view+json": {
       "model_id": "",
       "version_major": 2,
       "version_minor": 0
      },
      "text/plain": [
       "  0%|          | 0/1421 [00:00<?, ?it/s]"
      ]
     },
     "metadata": {},
     "output_type": "display_data"
    },
    {
     "data": {
      "application/vnd.jupyter.widget-view+json": {
       "model_id": "",
       "version_major": 2,
       "version_minor": 0
      },
      "text/plain": [
       "  0%|          | 0/3 [00:00<?, ?it/s]"
      ]
     },
     "metadata": {},
     "output_type": "display_data"
    },
    {
     "data": {
      "application/vnd.jupyter.widget-view+json": {
       "model_id": "",
       "version_major": 2,
       "version_minor": 0
      },
      "text/plain": [
       "  0%|          | 0/1421 [00:00<?, ?it/s]"
      ]
     },
     "metadata": {},
     "output_type": "display_data"
    },
    {
     "data": {
      "application/vnd.jupyter.widget-view+json": {
       "model_id": "",
       "version_major": 2,
       "version_minor": 0
      },
      "text/plain": [
       "  0%|          | 0/1421 [00:00<?, ?it/s]"
      ]
     },
     "metadata": {},
     "output_type": "display_data"
    },
    {
     "data": {
      "application/vnd.jupyter.widget-view+json": {
       "model_id": "",
       "version_major": 2,
       "version_minor": 0
      },
      "text/plain": [
       "  0%|          | 0/1421 [00:00<?, ?it/s]"
      ]
     },
     "metadata": {},
     "output_type": "display_data"
    },
    {
     "data": {
      "application/vnd.jupyter.widget-view+json": {
       "model_id": "",
       "version_major": 2,
       "version_minor": 0
      },
      "text/plain": [
       "  0%|          | 0/3 [00:00<?, ?it/s]"
      ]
     },
     "metadata": {},
     "output_type": "display_data"
    },
    {
     "data": {
      "application/vnd.jupyter.widget-view+json": {
       "model_id": "",
       "version_major": 2,
       "version_minor": 0
      },
      "text/plain": [
       "  0%|          | 0/1421 [00:00<?, ?it/s]"
      ]
     },
     "metadata": {},
     "output_type": "display_data"
    },
    {
     "data": {
      "application/vnd.jupyter.widget-view+json": {
       "model_id": "",
       "version_major": 2,
       "version_minor": 0
      },
      "text/plain": [
       "  0%|          | 0/1421 [00:00<?, ?it/s]"
      ]
     },
     "metadata": {},
     "output_type": "display_data"
    },
    {
     "data": {
      "application/vnd.jupyter.widget-view+json": {
       "model_id": "",
       "version_major": 2,
       "version_minor": 0
      },
      "text/plain": [
       "  0%|          | 0/1421 [00:00<?, ?it/s]"
      ]
     },
     "metadata": {},
     "output_type": "display_data"
    },
    {
     "data": {
      "application/vnd.jupyter.widget-view+json": {
       "model_id": "",
       "version_major": 2,
       "version_minor": 0
      },
      "text/plain": [
       "  0%|          | 0/3 [00:00<?, ?it/s]"
      ]
     },
     "metadata": {},
     "output_type": "display_data"
    },
    {
     "data": {
      "application/vnd.jupyter.widget-view+json": {
       "model_id": "",
       "version_major": 2,
       "version_minor": 0
      },
      "text/plain": [
       "  0%|          | 0/1421 [00:00<?, ?it/s]"
      ]
     },
     "metadata": {},
     "output_type": "display_data"
    },
    {
     "data": {
      "application/vnd.jupyter.widget-view+json": {
       "model_id": "",
       "version_major": 2,
       "version_minor": 0
      },
      "text/plain": [
       "  0%|          | 0/1421 [00:00<?, ?it/s]"
      ]
     },
     "metadata": {},
     "output_type": "display_data"
    },
    {
     "data": {
      "application/vnd.jupyter.widget-view+json": {
       "model_id": "",
       "version_major": 2,
       "version_minor": 0
      },
      "text/plain": [
       "  0%|          | 0/1421 [00:00<?, ?it/s]"
      ]
     },
     "metadata": {},
     "output_type": "display_data"
    },
    {
     "data": {
      "application/vnd.jupyter.widget-view+json": {
       "model_id": "",
       "version_major": 2,
       "version_minor": 0
      },
      "text/plain": [
       "  0%|          | 0/3 [00:00<?, ?it/s]"
      ]
     },
     "metadata": {},
     "output_type": "display_data"
    },
    {
     "data": {
      "application/vnd.jupyter.widget-view+json": {
       "model_id": "",
       "version_major": 2,
       "version_minor": 0
      },
      "text/plain": [
       "  0%|          | 0/1421 [00:00<?, ?it/s]"
      ]
     },
     "metadata": {},
     "output_type": "display_data"
    },
    {
     "data": {
      "application/vnd.jupyter.widget-view+json": {
       "model_id": "",
       "version_major": 2,
       "version_minor": 0
      },
      "text/plain": [
       "  0%|          | 0/1421 [00:00<?, ?it/s]"
      ]
     },
     "metadata": {},
     "output_type": "display_data"
    },
    {
     "data": {
      "application/vnd.jupyter.widget-view+json": {
       "model_id": "",
       "version_major": 2,
       "version_minor": 0
      },
      "text/plain": [
       "  0%|          | 0/1421 [00:00<?, ?it/s]"
      ]
     },
     "metadata": {},
     "output_type": "display_data"
    },
    {
     "data": {
      "application/vnd.jupyter.widget-view+json": {
       "model_id": "",
       "version_major": 2,
       "version_minor": 0
      },
      "text/plain": [
       "  0%|          | 0/3 [00:00<?, ?it/s]"
      ]
     },
     "metadata": {},
     "output_type": "display_data"
    },
    {
     "data": {
      "application/vnd.jupyter.widget-view+json": {
       "model_id": "",
       "version_major": 2,
       "version_minor": 0
      },
      "text/plain": [
       "  0%|          | 0/1421 [00:00<?, ?it/s]"
      ]
     },
     "metadata": {},
     "output_type": "display_data"
    },
    {
     "data": {
      "application/vnd.jupyter.widget-view+json": {
       "model_id": "",
       "version_major": 2,
       "version_minor": 0
      },
      "text/plain": [
       "  0%|          | 0/1421 [00:00<?, ?it/s]"
      ]
     },
     "metadata": {},
     "output_type": "display_data"
    },
    {
     "data": {
      "application/vnd.jupyter.widget-view+json": {
       "model_id": "",
       "version_major": 2,
       "version_minor": 0
      },
      "text/plain": [
       "  0%|          | 0/1421 [00:00<?, ?it/s]"
      ]
     },
     "metadata": {},
     "output_type": "display_data"
    },
    {
     "data": {
      "application/vnd.jupyter.widget-view+json": {
       "model_id": "",
       "version_major": 2,
       "version_minor": 0
      },
      "text/plain": [
       "  0%|          | 0/3 [00:00<?, ?it/s]"
      ]
     },
     "metadata": {},
     "output_type": "display_data"
    },
    {
     "data": {
      "application/vnd.jupyter.widget-view+json": {
       "model_id": "",
       "version_major": 2,
       "version_minor": 0
      },
      "text/plain": [
       "  0%|          | 0/1421 [00:00<?, ?it/s]"
      ]
     },
     "metadata": {},
     "output_type": "display_data"
    },
    {
     "data": {
      "application/vnd.jupyter.widget-view+json": {
       "model_id": "",
       "version_major": 2,
       "version_minor": 0
      },
      "text/plain": [
       "  0%|          | 0/1421 [00:00<?, ?it/s]"
      ]
     },
     "metadata": {},
     "output_type": "display_data"
    },
    {
     "data": {
      "application/vnd.jupyter.widget-view+json": {
       "model_id": "",
       "version_major": 2,
       "version_minor": 0
      },
      "text/plain": [
       "  0%|          | 0/1421 [00:00<?, ?it/s]"
      ]
     },
     "metadata": {},
     "output_type": "display_data"
    },
    {
     "data": {
      "application/vnd.jupyter.widget-view+json": {
       "model_id": "",
       "version_major": 2,
       "version_minor": 0
      },
      "text/plain": [
       "  0%|          | 0/3 [00:00<?, ?it/s]"
      ]
     },
     "metadata": {},
     "output_type": "display_data"
    },
    {
     "data": {
      "application/vnd.jupyter.widget-view+json": {
       "model_id": "",
       "version_major": 2,
       "version_minor": 0
      },
      "text/plain": [
       "  0%|          | 0/1421 [00:00<?, ?it/s]"
      ]
     },
     "metadata": {},
     "output_type": "display_data"
    },
    {
     "data": {
      "application/vnd.jupyter.widget-view+json": {
       "model_id": "",
       "version_major": 2,
       "version_minor": 0
      },
      "text/plain": [
       "  0%|          | 0/1421 [00:00<?, ?it/s]"
      ]
     },
     "metadata": {},
     "output_type": "display_data"
    },
    {
     "data": {
      "application/vnd.jupyter.widget-view+json": {
       "model_id": "",
       "version_major": 2,
       "version_minor": 0
      },
      "text/plain": [
       "  0%|          | 0/1421 [00:00<?, ?it/s]"
      ]
     },
     "metadata": {},
     "output_type": "display_data"
    },
    {
     "data": {
      "application/vnd.jupyter.widget-view+json": {
       "model_id": "",
       "version_major": 2,
       "version_minor": 0
      },
      "text/plain": [
       "  0%|          | 0/3 [00:00<?, ?it/s]"
      ]
     },
     "metadata": {},
     "output_type": "display_data"
    },
    {
     "data": {
      "application/vnd.jupyter.widget-view+json": {
       "model_id": "",
       "version_major": 2,
       "version_minor": 0
      },
      "text/plain": [
       "  0%|          | 0/1421 [00:00<?, ?it/s]"
      ]
     },
     "metadata": {},
     "output_type": "display_data"
    },
    {
     "data": {
      "application/vnd.jupyter.widget-view+json": {
       "model_id": "",
       "version_major": 2,
       "version_minor": 0
      },
      "text/plain": [
       "  0%|          | 0/1421 [00:00<?, ?it/s]"
      ]
     },
     "metadata": {},
     "output_type": "display_data"
    },
    {
     "data": {
      "application/vnd.jupyter.widget-view+json": {
       "model_id": "",
       "version_major": 2,
       "version_minor": 0
      },
      "text/plain": [
       "  0%|          | 0/1421 [00:00<?, ?it/s]"
      ]
     },
     "metadata": {},
     "output_type": "display_data"
    },
    {
     "data": {
      "application/vnd.jupyter.widget-view+json": {
       "model_id": "",
       "version_major": 2,
       "version_minor": 0
      },
      "text/plain": [
       "  0%|          | 0/3 [00:00<?, ?it/s]"
      ]
     },
     "metadata": {},
     "output_type": "display_data"
    },
    {
     "data": {
      "application/vnd.jupyter.widget-view+json": {
       "model_id": "",
       "version_major": 2,
       "version_minor": 0
      },
      "text/plain": [
       "  0%|          | 0/1421 [00:00<?, ?it/s]"
      ]
     },
     "metadata": {},
     "output_type": "display_data"
    },
    {
     "data": {
      "application/vnd.jupyter.widget-view+json": {
       "model_id": "",
       "version_major": 2,
       "version_minor": 0
      },
      "text/plain": [
       "  0%|          | 0/1421 [00:00<?, ?it/s]"
      ]
     },
     "metadata": {},
     "output_type": "display_data"
    },
    {
     "data": {
      "application/vnd.jupyter.widget-view+json": {
       "model_id": "",
       "version_major": 2,
       "version_minor": 0
      },
      "text/plain": [
       "  0%|          | 0/1421 [00:00<?, ?it/s]"
      ]
     },
     "metadata": {},
     "output_type": "display_data"
    },
    {
     "data": {
      "application/vnd.jupyter.widget-view+json": {
       "model_id": "",
       "version_major": 2,
       "version_minor": 0
      },
      "text/plain": [
       "  0%|          | 0/3 [00:00<?, ?it/s]"
      ]
     },
     "metadata": {},
     "output_type": "display_data"
    },
    {
     "data": {
      "application/vnd.jupyter.widget-view+json": {
       "model_id": "",
       "version_major": 2,
       "version_minor": 0
      },
      "text/plain": [
       "  0%|          | 0/1421 [00:00<?, ?it/s]"
      ]
     },
     "metadata": {},
     "output_type": "display_data"
    },
    {
     "data": {
      "application/vnd.jupyter.widget-view+json": {
       "model_id": "",
       "version_major": 2,
       "version_minor": 0
      },
      "text/plain": [
       "  0%|          | 0/1421 [00:00<?, ?it/s]"
      ]
     },
     "metadata": {},
     "output_type": "display_data"
    },
    {
     "data": {
      "application/vnd.jupyter.widget-view+json": {
       "model_id": "",
       "version_major": 2,
       "version_minor": 0
      },
      "text/plain": [
       "  0%|          | 0/1421 [00:00<?, ?it/s]"
      ]
     },
     "metadata": {},
     "output_type": "display_data"
    }
   ],
   "source": [
    "snp_asso.fit_transform(\n",
    "    encoded_snp = encoding_aligned, \n",
    "    other_exogs = other_exogs,\n",
    "    target_dataset = phenotypes,\n",
    "    target_strategy = association.target_strategy(),\n",
    "    output_path = source_path(\"LPA_analysis/data_analysis_result/association/illustrate_run/association\"),\n",
    "    extra_iterate_on = [\"ethnicity\"], # will run addtional iteration from this column in other_exogs, like group_by()\n",
    "    snps_preprocessing_strategy = association.filter_C,\n",
    "    verbose = 0 # the output is a lot.\n",
    ")"
   ]
  },
  {
   "cell_type": "markdown",
   "id": "0cc5d979-7547-4fe1-9a32-edfe8b072b5f",
   "metadata": {},
   "source": [
    "# METAL Meta-analysis"
   ]
  },
  {
   "cell_type": "code",
   "execution_count": 45,
   "id": "141f6c83-9360-4552-8e07-9be8c6d1affe",
   "metadata": {},
   "outputs": [
    {
     "name": "stdout",
     "output_type": "stream",
     "text": [
      "The toolkit running METAL-related pipeline internally\n",
      "\n",
      "Example:\n",
      "\n",
      "Initialize::\n",
      "\n",
      "    mtk = metal_toolkit.METALToolkit(\n",
      "        ethnicity = [\"EU\", \"AF\", \"HISP\"],\n",
      "        verbose = 1,\n",
      "        metal_path = \"/mnt/mfs/cluster/bin/METAL/metal\"\n",
      "        )\n",
      "\n",
      "One-line Pipeline::\n",
      "\n",
      "    mtk.run_metal(\n",
      "        path_association: str,\n",
      "        path_meta: str,\n",
      "        multi_line_header: bool)\n",
      "\n",
      "The ``multi_line_header`` only makes difference at the output header,\n",
      "it will create another header row, just for the visualization pipeline\n",
      "\n",
      "If need docs for each steps, after Initializing run::\n",
      "\n",
      "    print(mtk.__doc__)\n",
      "\n"
     ]
    }
   ],
   "source": [
    "from lpa_pipeline import metal_toolkit\n",
    "print(metal_toolkit.__doc__)"
   ]
  },
  {
   "cell_type": "code",
   "execution_count": 46,
   "id": "55e16070-8eb0-4a2c-863a-a23589a65f19",
   "metadata": {},
   "outputs": [],
   "source": [
    "mtk = metal_toolkit.METALToolkit(\n",
    "    ethnicity = [\"EU\", \"AF\", \"HISP\"], \n",
    "    verbose = 1, \n",
    "    metal_path = \"/mnt/mfs/cluster/bin/METAL/metal\")"
   ]
  },
  {
   "cell_type": "code",
   "execution_count": 47,
   "id": "1d6225cb-6bd9-4b98-952c-b73f2c7c29e5",
   "metadata": {},
   "outputs": [
    {
     "data": {
      "application/vnd.jupyter.widget-view+json": {
       "model_id": "5f3e72a542aa43e5b68d6572bfe41dec",
       "version_major": 2,
       "version_minor": 0
      },
      "text/plain": [
       "  0%|          | 0/78 [00:00<?, ?it/s]"
      ]
     },
     "metadata": {},
     "output_type": "display_data"
    },
    {
     "data": {
      "application/vnd.jupyter.widget-view+json": {
       "model_id": "048e1e48140144fbb49da9a569ef50b8",
       "version_major": 2,
       "version_minor": 0
      },
      "text/plain": [
       "  0%|          | 0/39 [00:00<?, ?it/s]"
      ]
     },
     "metadata": {},
     "output_type": "display_data"
    },
    {
     "name": "stdout",
     "output_type": "stream",
     "text": [
      "METAL scripts are saved to /mnt/vast/hpc/bvardarajan_lab/LPA_analysis/data_analysis_result/meta_analysis/illustrate_run/\n"
     ]
    },
    {
     "data": {
      "application/vnd.jupyter.widget-view+json": {
       "model_id": "c779911f34ec43cb91cbe3f41df8c806",
       "version_major": 2,
       "version_minor": 0
      },
      "text/plain": [
       "  0%|          | 0/13 [00:00<?, ?it/s]"
      ]
     },
     "metadata": {},
     "output_type": "display_data"
    },
    {
     "data": {
      "application/vnd.jupyter.widget-view+json": {
       "model_id": "9d96681f811947f5a47de8083218356e",
       "version_major": 2,
       "version_minor": 0
      },
      "text/plain": [
       "  0%|          | 0/13 [00:00<?, ?it/s]"
      ]
     },
     "metadata": {},
     "output_type": "display_data"
    }
   ],
   "source": [
    "aggregate_results = mtk.run_metal(\n",
    "    path_association = source_path(\"LPA_analysis/data_analysis_result/association/illustrate_run/association\"),\n",
    "    path_meta = source_path(\"LPA_analysis/data_analysis_result/meta_analysis/illustrate_run/\"))"
   ]
  },
  {
   "cell_type": "code",
   "execution_count": 48,
   "id": "8b3fa511-d1b0-4359-9280-0f96a4ca0182",
   "metadata": {},
   "outputs": [],
   "source": [
    "def list_files(startpath):\n",
    "    \"\"\"credit to https://stackoverflow.com/a/9728478\"\"\"\n",
    "    for root, dirs, files in os.walk(startpath):\n",
    "        level = root.replace(startpath, '').count(os.sep)\n",
    "        indent = ' ' * 4 * (level)\n",
    "        print('{}{}/'.format(indent, os.path.basename(root)))\n",
    "        subindent = ' ' * 4 * (level + 1)\n",
    "        for f in files:\n",
    "            print('{}{}'.format(subindent, f))"
   ]
  },
  {
   "cell_type": "code",
   "execution_count": 49,
   "id": "c1fc8e8f-3af7-40d9-b59c-5d3dea1fd0cd",
   "metadata": {},
   "outputs": [
    {
     "name": "stdout",
     "output_type": "stream",
     "text": [
      "/\n",
      "    DEMENTIA_Logit_ethnicity=AF_N_snp=496.txt\n",
      "    DEMENTIA_Logit_ethnicity=EU_N_snp=397.txt\n",
      "    DEMENTIA_Logit_ethnicity=HISP_N_snp=553.txt\n",
      "    DIABETES_Logit_ethnicity=AF_N_snp=503.txt\n",
      "    DIABETES_Logit_ethnicity=EU_N_snp=396.txt\n",
      "    DIABETES_Logit_ethnicity=HISP_N_snp=555.txt\n",
      "    HBA1C_2_OLS_ethnicity=AF_N_snp=304.txt\n",
      "    HBA1C_2_OLS_ethnicity=EU_N_snp=271.txt\n",
      "    HBA1C_2_OLS_ethnicity=HISP_N_snp=318.txt\n",
      "    HEART_Logit_ethnicity=AF_N_snp=503.txt\n",
      "    HEART_Logit_ethnicity=EU_N_snp=397.txt\n",
      "    HEART_Logit_ethnicity=HISP_N_snp=555.txt\n",
      "    HYPERTENSION_Logit_ethnicity=AF_N_snp=503.txt\n",
      "    HYPERTENSION_Logit_ethnicity=EU_N_snp=397.txt\n",
      "    HYPERTENSION_Logit_ethnicity=HISP_N_snp=552.txt\n",
      "    INSL01_2_OLS_ethnicity=AF_N_snp=377.txt\n",
      "    INSL01_2_OLS_ethnicity=EU_N_snp=314.txt\n",
      "    INSL01_2_OLS_ethnicity=HISP_N_snp=365.txt\n",
      "    INSL02_2_OLS_ethnicity=AF_N_snp=378.txt\n",
      "    INSL02_2_OLS_ethnicity=EU_N_snp=315.txt\n",
      "    INSL02_2_OLS_ethnicity=HISP_N_snp=365.txt\n",
      "    INSL03_2_OLS_ethnicity=AF_N_snp=374.txt\n",
      "    INSL03_2_OLS_ethnicity=EU_N_snp=315.txt\n",
      "    INSL03_2_OLS_ethnicity=HISP_N_snp=365.txt\n",
      "    LIP01_B_OLS_ethnicity=AF_N_snp=390.txt\n",
      "    LIP01_B_OLS_ethnicity=EU_N_snp=318.txt\n",
      "    LIP01_B_OLS_ethnicity=HISP_N_snp=385.txt\n",
      "    LIP02_B_OLS_ethnicity=AF_N_snp=390.txt\n",
      "    LIP02_B_OLS_ethnicity=EU_N_snp=318.txt\n",
      "    LIP02_B_OLS_ethnicity=HISP_N_snp=385.txt\n",
      "    LIP03_B_OLS_ethnicity=AF_N_snp=390.txt\n",
      "    LIP03_B_OLS_ethnicity=EU_N_snp=318.txt\n",
      "    LIP03_B_OLS_ethnicity=HISP_N_snp=385.txt\n",
      "    LIP04_2_OLS_ethnicity=AF_N_snp=374.txt\n",
      "    LIP04_2_OLS_ethnicity=EU_N_snp=315.txt\n",
      "    LIP04_2_OLS_ethnicity=HISP_N_snp=364.txt\n",
      "    STROKE_Logit_ethnicity=AF_N_snp=425.txt\n",
      "    STROKE_Logit_ethnicity=EU_N_snp=352.txt\n",
      "    STROKE_Logit_ethnicity=HISP_N_snp=431.txt\n",
      "    aggregate_all_traits.xlsx\n",
      "    metal.sh\n",
      "    metal_script.txt\n",
      "DEMENTIA/\n",
      "    METAANALYSIS1.TBL\n",
      "    METAANALYSIS1.TBL.info\n",
      "    aggregate.csv\n",
      "    ethnicity=AF.csv\n",
      "    ethnicity=AF_for_metal.csv\n",
      "    ethnicity=EU.csv\n",
      "    ethnicity=EU_for_metal.csv\n",
      "    ethnicity=HISP.csv\n",
      "    ethnicity=HISP_for_metal.csv\n",
      "    metal_DEMENTIA.log\n",
      "DIABETES/\n",
      "    METAANALYSIS1.TBL\n",
      "    METAANALYSIS1.TBL.info\n",
      "    aggregate.csv\n",
      "    ethnicity=AF.csv\n",
      "    ethnicity=AF_for_metal.csv\n",
      "    ethnicity=EU.csv\n",
      "    ethnicity=EU_for_metal.csv\n",
      "    ethnicity=HISP.csv\n",
      "    ethnicity=HISP_for_metal.csv\n",
      "    metal_DIABETES.log\n",
      "HBA1C_2/\n",
      "    METAANALYSIS1.TBL\n",
      "    METAANALYSIS1.TBL.info\n",
      "    aggregate.csv\n",
      "    ethnicity=AF.csv\n",
      "    ethnicity=AF_for_metal.csv\n",
      "    ethnicity=EU.csv\n",
      "    ethnicity=EU_for_metal.csv\n",
      "    ethnicity=HISP.csv\n",
      "    ethnicity=HISP_for_metal.csv\n",
      "    metal_HBA1C_2.log\n",
      "HEART/\n",
      "    METAANALYSIS1.TBL\n",
      "    METAANALYSIS1.TBL.info\n",
      "    aggregate.csv\n",
      "    ethnicity=AF.csv\n",
      "    ethnicity=AF_for_metal.csv\n",
      "    ethnicity=EU.csv\n",
      "    ethnicity=EU_for_metal.csv\n",
      "    ethnicity=HISP.csv\n",
      "    ethnicity=HISP_for_metal.csv\n",
      "    metal_HEART.log\n",
      "HYPERTENSION/\n",
      "    METAANALYSIS1.TBL\n",
      "    METAANALYSIS1.TBL.info\n",
      "    aggregate.csv\n",
      "    ethnicity=AF.csv\n",
      "    ethnicity=AF_for_metal.csv\n",
      "    ethnicity=EU.csv\n",
      "    ethnicity=EU_for_metal.csv\n",
      "    ethnicity=HISP.csv\n",
      "    ethnicity=HISP_for_metal.csv\n",
      "    metal_HYPERTENSION.log\n",
      "INSL01_2/\n",
      "    METAANALYSIS1.TBL\n",
      "    METAANALYSIS1.TBL.info\n",
      "    aggregate.csv\n",
      "    ethnicity=AF.csv\n",
      "    ethnicity=AF_for_metal.csv\n",
      "    ethnicity=EU.csv\n",
      "    ethnicity=EU_for_metal.csv\n",
      "    ethnicity=HISP.csv\n",
      "    ethnicity=HISP_for_metal.csv\n",
      "    metal_INSL01_2.log\n",
      "INSL02_2/\n",
      "    METAANALYSIS1.TBL\n",
      "    METAANALYSIS1.TBL.info\n",
      "    aggregate.csv\n",
      "    ethnicity=AF.csv\n",
      "    ethnicity=AF_for_metal.csv\n",
      "    ethnicity=EU.csv\n",
      "    ethnicity=EU_for_metal.csv\n",
      "    ethnicity=HISP.csv\n",
      "    ethnicity=HISP_for_metal.csv\n",
      "    metal_INSL02_2.log\n",
      "INSL03_2/\n",
      "    METAANALYSIS1.TBL\n",
      "    METAANALYSIS1.TBL.info\n",
      "    aggregate.csv\n",
      "    ethnicity=AF.csv\n",
      "    ethnicity=AF_for_metal.csv\n",
      "    ethnicity=EU.csv\n",
      "    ethnicity=EU_for_metal.csv\n",
      "    ethnicity=HISP.csv\n",
      "    ethnicity=HISP_for_metal.csv\n",
      "    metal_INSL03_2.log\n",
      "LIP01_B/\n",
      "    METAANALYSIS1.TBL\n",
      "    METAANALYSIS1.TBL.info\n",
      "    aggregate.csv\n",
      "    ethnicity=AF.csv\n",
      "    ethnicity=AF_for_metal.csv\n",
      "    ethnicity=EU.csv\n",
      "    ethnicity=EU_for_metal.csv\n",
      "    ethnicity=HISP.csv\n",
      "    ethnicity=HISP_for_metal.csv\n",
      "    metal_LIP01_B.log\n",
      "LIP02_B/\n",
      "    METAANALYSIS1.TBL\n",
      "    METAANALYSIS1.TBL.info\n",
      "    aggregate.csv\n",
      "    ethnicity=AF.csv\n",
      "    ethnicity=AF_for_metal.csv\n",
      "    ethnicity=EU.csv\n",
      "    ethnicity=EU_for_metal.csv\n",
      "    ethnicity=HISP.csv\n",
      "    ethnicity=HISP_for_metal.csv\n",
      "    metal_LIP02_B.log\n",
      "LIP03_B/\n",
      "    METAANALYSIS1.TBL\n",
      "    METAANALYSIS1.TBL.info\n",
      "    aggregate.csv\n",
      "    ethnicity=AF.csv\n",
      "    ethnicity=AF_for_metal.csv\n",
      "    ethnicity=EU.csv\n",
      "    ethnicity=EU_for_metal.csv\n",
      "    ethnicity=HISP.csv\n",
      "    ethnicity=HISP_for_metal.csv\n",
      "    metal_LIP03_B.log\n",
      "LIP04_2/\n",
      "    METAANALYSIS1.TBL\n",
      "    METAANALYSIS1.TBL.info\n",
      "    aggregate.csv\n",
      "    ethnicity=AF.csv\n",
      "    ethnicity=AF_for_metal.csv\n",
      "    ethnicity=EU.csv\n",
      "    ethnicity=EU_for_metal.csv\n",
      "    ethnicity=HISP.csv\n",
      "    ethnicity=HISP_for_metal.csv\n",
      "    metal_LIP04_2.log\n",
      "STROKE/\n",
      "    METAANALYSIS1.TBL\n",
      "    METAANALYSIS1.TBL.info\n",
      "    aggregate.csv\n",
      "    ethnicity=AF.csv\n",
      "    ethnicity=AF_for_metal.csv\n",
      "    ethnicity=EU.csv\n",
      "    ethnicity=EU_for_metal.csv\n",
      "    ethnicity=HISP.csv\n",
      "    ethnicity=HISP_for_metal.csv\n",
      "    metal_STROKE.log\n"
     ]
    }
   ],
   "source": [
    "list_files(source_path(\"LPA_analysis/data_analysis_result/meta_analysis/illustrate_run/\"))"
   ]
  },
  {
   "cell_type": "code",
   "execution_count": 50,
   "id": "d239950b-ea6b-43c6-9298-4021a62a9ce3",
   "metadata": {},
   "outputs": [
    {
     "data": {
      "text/plain": [
       "Index(['MarkerName', 'snp_pos.Beta.EUR', 'snp_pos.SE.EUR',\n",
       "       'snp_pos.P.value.EUR', 'rel_freqs.EUR', 'abs_freqs.EUR', 'n_sample.EUR',\n",
       "       'snp_pos.Beta.AA', 'snp_pos.SE.AA', 'snp_pos.P.value.AA',\n",
       "       'rel_freqs.AA', 'abs_freqs.AA', 'n_sample.AA', 'snp_pos.Beta.HISP',\n",
       "       'snp_pos.SE.HISP', 'snp_pos.P.value.HISP', 'rel_freqs.HISP',\n",
       "       'abs_freqs.HISP', 'n_sample.HISP', 'Allele1', 'Allele2', 'Effect',\n",
       "       'StdErr', 'P.value', 'Direction', 'META.ALLELE.COUNT', 'META.ALLELE.N',\n",
       "       'trait'],\n",
       "      dtype='object')"
      ]
     },
     "execution_count": 50,
     "metadata": {},
     "output_type": "execute_result"
    }
   ],
   "source": [
    "aggregate_results.columns"
   ]
  },
  {
   "cell_type": "code",
   "execution_count": 51,
   "id": "d20e6ab5-05d9-49b6-9b4a-896c6f0f9549",
   "metadata": {},
   "outputs": [
    {
     "data": {
      "text/plain": [
       "(6113, 28)"
      ]
     },
     "execution_count": 51,
     "metadata": {},
     "output_type": "execute_result"
    }
   ],
   "source": [
    "aggregate_results.shape"
   ]
  }
 ],
 "metadata": {
  "kernelspec": {
   "display_name": "Python 3 (ipykernel)",
   "language": "python",
   "name": "python3"
  },
  "language_info": {
   "codemirror_mode": {
    "name": "ipython",
    "version": 3
   },
   "file_extension": ".py",
   "mimetype": "text/x-python",
   "name": "python",
   "nbconvert_exporter": "python",
   "pygments_lexer": "ipython3",
   "version": "3.8.12"
  }
 },
 "nbformat": 4,
 "nbformat_minor": 5
}
