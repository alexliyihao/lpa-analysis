{
 "cells": [
  {
   "cell_type": "code",
   "execution_count": 1,
   "id": "71327472-7c4a-41ee-a44d-2561d52b4829",
   "metadata": {},
   "outputs": [],
   "source": [
    "from lpa_pipeline import validator, vcf_translate, statistical, data_management, settings"
   ]
  },
  {
   "cell_type": "markdown",
   "id": "3d0e5b65-71c8-4556-a04e-45e703a94fb3",
   "metadata": {
    "tags": []
   },
   "source": [
    "# Data Management"
   ]
  },
  {
   "cell_type": "code",
   "execution_count": 2,
   "id": "7709a122-d01b-4de5-a63f-414eb599a5eb",
   "metadata": {},
   "outputs": [],
   "source": [
    "DM = data_management.DataManager_LPA()"
   ]
  },
  {
   "cell_type": "code",
   "execution_count": 3,
   "id": "976b5d4b-ba98-49c2-a0b5-3220b9438faf",
   "metadata": {},
   "outputs": [
    {
     "data": {
      "text/plain": [
       "{'snps': 'snps',\n",
       " 'genotypes': 'genotypes',\n",
       " 'vcfs': 'vcfs',\n",
       " 'analysis_results': 'data_analysis_result'}"
      ]
     },
     "execution_count": 3,
     "metadata": {},
     "output_type": "execute_result"
    }
   ],
   "source": [
    "DM.paths"
   ]
  },
  {
   "cell_type": "code",
   "execution_count": 4,
   "id": "cd498024-06c7-46e9-a61b-a6b9a95b574d",
   "metadata": {},
   "outputs": [
    {
     "data": {
      "text/plain": [
       "{'snps': ['simple', '20miss', 'pheno_snps_ethnicity'],\n",
       " 'genotypes': ['simple', '20miss'],\n",
       " 'vcfs': ['20miss'],\n",
       " 'analysis_results': ['Logistic',\n",
       "  'OLS',\n",
       "  'pysm_Lasso',\n",
       "  'python_sm_Nov26',\n",
       "  'python_sm_Nov23']}"
      ]
     },
     "execution_count": 4,
     "metadata": {},
     "output_type": "execute_result"
    }
   ],
   "source": [
    "DM.versions"
   ]
  },
  {
   "cell_type": "code",
   "execution_count": 5,
   "id": "27d91dd0-a394-4a82-a7d9-b6f12aa6af8f",
   "metadata": {},
   "outputs": [],
   "source": [
    "vcf_paths = DM.path_tool_vcf(version_name = \"20miss\", ethnicity = \"eu\")"
   ]
  },
  {
   "cell_type": "code",
   "execution_count": 6,
   "id": "47e0277b-4124-4697-9c10-3584dbce3808",
   "metadata": {},
   "outputs": [
    {
     "data": {
      "text/plain": [
       "{'pheno': {'eu': '/mnt/mfs/hgrcgrid/shared/LPA_analysis/snps/simple/pheno_snps_ethnicity_1.csv',\n",
       "  'af': '/mnt/mfs/hgrcgrid/shared/LPA_analysis/snps/simple/pheno_snps_ethnicity_2.csv',\n",
       "  'hisp': '/mnt/mfs/hgrcgrid/shared/LPA_analysis/snps/simple/pheno_snps_ethnicity_3.csv',\n",
       "  'others': '/mnt/mfs/hgrcgrid/shared/LPA_analysis/snps/simple/pheno_snps_ethnicity_4.csv',\n",
       "  'complete': '/mnt/mfs/hgrcgrid/shared/LPA_analysis/snps/simple/pheno_snps_ethnicity_complete.csv'},\n",
       " 'geno': {'eu': '/mnt/mfs/hgrcgrid/shared/LPA_analysis/snps/simple/geno_ethnicity_1.csv',\n",
       "  'af': '/mnt/mfs/hgrcgrid/shared/LPA_analysis/snps/simple/geno_ethnicity_2.csv',\n",
       "  'hisp': '/mnt/mfs/hgrcgrid/shared/LPA_analysis/snps/simple/geno_ethnicity_3.csv',\n",
       "  'others': '/mnt/mfs/hgrcgrid/shared/LPA_analysis/snps/simple/geno_ethnicity_4.csv',\n",
       "  'complete': '/mnt/mfs/hgrcgrid/shared/LPA_analysis/snps/simple/geno_ethnicity_complete.csv'}}"
      ]
     },
     "execution_count": 6,
     "metadata": {},
     "output_type": "execute_result"
    }
   ],
   "source": [
    "DM.path_tool_csv(version_name = \"simple\")"
   ]
  },
  {
   "cell_type": "markdown",
   "id": "c9172e1c-bf55-45eb-a65a-819e3e05a8da",
   "metadata": {
    "tags": []
   },
   "source": [
    "# Data Completeness testing"
   ]
  },
  {
   "cell_type": "code",
   "execution_count": 7,
   "id": "2847b85e-62e2-4cf5-a788-3b7f3bce6bdc",
   "metadata": {},
   "outputs": [
    {
     "name": "stdout",
     "output_type": "stream",
     "text": [
      "Pass: All the related files to pheno_snps_ethnicity_complete.csv is validated\n"
     ]
    }
   ],
   "source": [
    "# Create a validator\n",
    "EV = validator.EnsembleValidator(data_manager = DM)\n",
    "source_fail_list, pipeline_fail_list = EV.validate(version_name = \"20miss\", ethnicity = \"complete\")"
   ]
  },
  {
   "cell_type": "markdown",
   "id": "26ed3353-c725-4dc4-b764-ab1ccc9d9641",
   "metadata": {},
   "source": [
    "# Data Loading"
   ]
  },
  {
   "cell_type": "code",
   "execution_count": 8,
   "id": "ec914298-c6d7-4ae7-9400-b396b7fe7240",
   "metadata": {},
   "outputs": [],
   "source": [
    "DL = data_management.DataLoader_LPA(data_manager = DM)"
   ]
  },
  {
   "cell_type": "code",
   "execution_count": 9,
   "id": "b0453fbe-f7f4-4bcc-b01b-9299d36b66a4",
   "metadata": {},
   "outputs": [],
   "source": [
    "DL.load_dataset(version_name = \"simple\")"
   ]
  },
  {
   "cell_type": "code",
   "execution_count": 10,
   "id": "238e2927-37ab-4311-9ea4-03f4adfd350e",
   "metadata": {},
   "outputs": [],
   "source": [
    "genotype, snp_x, snp_y = DL.get_dataset(ethnicity = \"af\", n_table = 3)"
   ]
  },
  {
   "cell_type": "code",
   "execution_count": 11,
   "id": "49aab377-39e1-470b-8028-b72ddac78543",
   "metadata": {},
   "outputs": [],
   "source": [
    "df, snp_y = DL.get_dataset(ethnicity = \"complete\", n_table = 2)"
   ]
  },
  {
   "cell_type": "code",
   "execution_count": 12,
   "id": "1715b5a5-98e9-44ba-9cdc-95cc8f8eec6b",
   "metadata": {},
   "outputs": [
    {
     "name": "stdout",
     "output_type": "stream",
     "text": [
      "----------------Summary for label DEMENTIA----------------\n",
      "NA exist:False\n",
      "1.0    477\n",
      "2.0    236\n",
      "3.0      8\n",
      "Name: DEMENTIA, dtype: int64\n",
      "NA exist:False\n",
      "1.0    493\n",
      "2.0    434\n",
      "3.0     13\n",
      "Name: DEMENTIA, dtype: int64\n",
      "NA exist:False\n",
      "2.0    1024\n",
      "1.0     647\n",
      "3.0      28\n",
      "Name: DEMENTIA, dtype: int64\n",
      "NA exist:False\n",
      "2.0    1694\n",
      "1.0    1617\n",
      "3.0      49\n",
      "Name: DEMENTIA, dtype: int64\n"
     ]
    }
   ],
   "source": [
    "statistical.edav(DL.get_snp_ys(), label = \"DEMENTIA\")"
   ]
  },
  {
   "cell_type": "code",
   "execution_count": 13,
   "id": "3dbd32c7-e3c0-4153-9a05-3fde28e27412",
   "metadata": {},
   "outputs": [
    {
     "name": "stdout",
     "output_type": "stream",
     "text": [
      "----------------Summary for label LIP03_B----------------\n",
      "NA exist:True\n",
      "NA exist:True\n",
      "NA exist:True\n",
      "NA exist:True\n"
     ]
    },
    {
     "data": {
      "image/png": "[encoded data removed]",
      "text/plain": [
       "<Figure size 360x360 with 1 Axes>"
      ]
     },
     "metadata": {
      "needs_background": "light"
     },
     "output_type": "display_data"
    },
    {
     "data": {
      "image/png": "[encoded data removed]",
      "text/plain": [
       "<Figure size 360x360 with 1 Axes>"
      ]
     },
     "metadata": {
      "needs_background": "light"
     },
     "output_type": "display_data"
    },
    {
     "data": {
      "image/png": "[encoded data removed]",
      "text/plain": [
       "<Figure size 360x360 with 1 Axes>"
      ]
     },
     "metadata": {
      "needs_background": "light"
     },
     "output_type": "display_data"
    },
    {
     "data": {
      "image/png": "[encoded data removed]",
      "text/plain": [
       "<Figure size 360x360 with 1 Axes>"
      ]
     },
     "metadata": {
      "needs_background": "light"
     },
     "output_type": "display_data"
    }
   ],
   "source": [
    "statistical.edav(DL.get_snp_ys(), label = \"LIP03_B\")"
   ]
  },
  {
   "cell_type": "code",
   "execution_count": 14,
   "id": "76572a3e-7772-4d3c-959c-37e41b394aef",
   "metadata": {},
   "outputs": [],
   "source": [
    "DL.load_vcf(version_name = \"20miss\")"
   ]
  },
  {
   "cell_type": "code",
   "execution_count": 15,
   "id": "5de5dd8a-adfd-44d4-ac26-de7479b3feb1",
   "metadata": {},
   "outputs": [
    {
     "data": {
      "text/html": [
       "<div>\n",
       "<style scoped>\n",
       "    .dataframe tbody tr th:only-of-type {\n",
       "        vertical-align: middle;\n",
       "    }\n",
       "\n",
       "    .dataframe tbody tr th {\n",
       "        vertical-align: top;\n",
       "    }\n",
       "\n",
       "    .dataframe thead th {\n",
       "        text-align: right;\n",
       "    }\n",
       "</style>\n",
       "<table border=\"1\" class=\"dataframe\">\n",
       "  <thead>\n",
       "    <tr style=\"text-align: right;\">\n",
       "      <th>pos-ref/alt</th>\n",
       "      <th>11-G/A</th>\n",
       "      <th>16-T/C</th>\n",
       "      <th>17-G/A</th>\n",
       "      <th>21-G/A</th>\n",
       "      <th>31-T/C</th>\n",
       "      <th>33-T/C</th>\n",
       "      <th>34-C/T</th>\n",
       "      <th>35-C/G</th>\n",
       "      <th>35-C/G,A</th>\n",
       "      <th>35-C/G,-</th>\n",
       "      <th>...</th>\n",
       "      <th>5089-G/A</th>\n",
       "      <th>5090-G/T</th>\n",
       "      <th>5092-G/T</th>\n",
       "      <th>5093-T/G</th>\n",
       "      <th>5094-G/T</th>\n",
       "      <th>5096-T/C</th>\n",
       "      <th>5098-T/G</th>\n",
       "      <th>5099-C/T</th>\n",
       "      <th>5099-C/G</th>\n",
       "      <th>5099-C/A</th>\n",
       "    </tr>\n",
       "  </thead>\n",
       "  <tbody>\n",
       "    <tr>\n",
       "      <th>washei25748</th>\n",
       "      <td>0/0</td>\n",
       "      <td>0/0</td>\n",
       "      <td>0/0</td>\n",
       "      <td>0/0</td>\n",
       "      <td>0/0</td>\n",
       "      <td>0/0</td>\n",
       "      <td>0/0</td>\n",
       "      <td>0/0</td>\n",
       "      <td>0/0</td>\n",
       "      <td>0/0</td>\n",
       "      <td>...</td>\n",
       "      <td>0/0</td>\n",
       "      <td>0/0</td>\n",
       "      <td>0/1</td>\n",
       "      <td>0/0</td>\n",
       "      <td>0/0</td>\n",
       "      <td>0/0</td>\n",
       "      <td>0/0</td>\n",
       "      <td>0/0</td>\n",
       "      <td>0/0</td>\n",
       "      <td>0/0</td>\n",
       "    </tr>\n",
       "    <tr>\n",
       "      <th>washei25756</th>\n",
       "      <td>0/0</td>\n",
       "      <td>0/0</td>\n",
       "      <td>0/0</td>\n",
       "      <td>0/1</td>\n",
       "      <td>0/1</td>\n",
       "      <td>0/0</td>\n",
       "      <td>0/0</td>\n",
       "      <td>0/0</td>\n",
       "      <td>0/0</td>\n",
       "      <td>0/0</td>\n",
       "      <td>...</td>\n",
       "      <td>0/0</td>\n",
       "      <td>0/0</td>\n",
       "      <td>0/1</td>\n",
       "      <td>0/0</td>\n",
       "      <td>0/0</td>\n",
       "      <td>0/0</td>\n",
       "      <td>0/0</td>\n",
       "      <td>0/0</td>\n",
       "      <td>0/0</td>\n",
       "      <td>0/0</td>\n",
       "    </tr>\n",
       "    <tr>\n",
       "      <th>washei25759</th>\n",
       "      <td>0/0</td>\n",
       "      <td>0/0</td>\n",
       "      <td>0/0</td>\n",
       "      <td>0/0</td>\n",
       "      <td>0/0</td>\n",
       "      <td>0/0</td>\n",
       "      <td>0/0</td>\n",
       "      <td>1/0</td>\n",
       "      <td>0/0</td>\n",
       "      <td>0/0</td>\n",
       "      <td>...</td>\n",
       "      <td>0/0</td>\n",
       "      <td>0/0</td>\n",
       "      <td>0/1</td>\n",
       "      <td>0/0</td>\n",
       "      <td>0/0</td>\n",
       "      <td>0/0</td>\n",
       "      <td>0/0</td>\n",
       "      <td>0/0</td>\n",
       "      <td>0/0</td>\n",
       "      <td>0/0</td>\n",
       "    </tr>\n",
       "    <tr>\n",
       "      <th>washei25762</th>\n",
       "      <td>0/0</td>\n",
       "      <td>0/0</td>\n",
       "      <td>0/0</td>\n",
       "      <td>0/1</td>\n",
       "      <td>0/1</td>\n",
       "      <td>0/0</td>\n",
       "      <td>0/0</td>\n",
       "      <td>1/0</td>\n",
       "      <td>0/0</td>\n",
       "      <td>0/0</td>\n",
       "      <td>...</td>\n",
       "      <td>0/0</td>\n",
       "      <td>0/0</td>\n",
       "      <td>0/1</td>\n",
       "      <td>0/0</td>\n",
       "      <td>0/0</td>\n",
       "      <td>0/0</td>\n",
       "      <td>0/0</td>\n",
       "      <td>0/0</td>\n",
       "      <td>0/0</td>\n",
       "      <td>0/0</td>\n",
       "    </tr>\n",
       "    <tr>\n",
       "      <th>washei25772</th>\n",
       "      <td>0/0</td>\n",
       "      <td>0/0</td>\n",
       "      <td>0/0</td>\n",
       "      <td>0/0</td>\n",
       "      <td>0/1</td>\n",
       "      <td>0/0</td>\n",
       "      <td>0/0</td>\n",
       "      <td>0/0</td>\n",
       "      <td>0/0</td>\n",
       "      <td>0/0</td>\n",
       "      <td>...</td>\n",
       "      <td>0/0</td>\n",
       "      <td>0/0</td>\n",
       "      <td>0/1</td>\n",
       "      <td>0/0</td>\n",
       "      <td>0/0</td>\n",
       "      <td>0/0</td>\n",
       "      <td>0/0</td>\n",
       "      <td>0/0</td>\n",
       "      <td>0/0</td>\n",
       "      <td>0/0</td>\n",
       "    </tr>\n",
       "    <tr>\n",
       "      <th>...</th>\n",
       "      <td>...</td>\n",
       "      <td>...</td>\n",
       "      <td>...</td>\n",
       "      <td>...</td>\n",
       "      <td>...</td>\n",
       "      <td>...</td>\n",
       "      <td>...</td>\n",
       "      <td>...</td>\n",
       "      <td>...</td>\n",
       "      <td>...</td>\n",
       "      <td>...</td>\n",
       "      <td>...</td>\n",
       "      <td>...</td>\n",
       "      <td>...</td>\n",
       "      <td>...</td>\n",
       "      <td>...</td>\n",
       "      <td>...</td>\n",
       "      <td>...</td>\n",
       "      <td>...</td>\n",
       "      <td>...</td>\n",
       "      <td>...</td>\n",
       "    </tr>\n",
       "    <tr>\n",
       "      <th>washei71450</th>\n",
       "      <td>0/0</td>\n",
       "      <td>0/0</td>\n",
       "      <td>0/0</td>\n",
       "      <td>0/1</td>\n",
       "      <td>0/1</td>\n",
       "      <td>0/0</td>\n",
       "      <td>0/0</td>\n",
       "      <td>1/0</td>\n",
       "      <td>0/0</td>\n",
       "      <td>0/0</td>\n",
       "      <td>...</td>\n",
       "      <td>0/0</td>\n",
       "      <td>0/0</td>\n",
       "      <td>0/1</td>\n",
       "      <td>0/0</td>\n",
       "      <td>0/0</td>\n",
       "      <td>0/0</td>\n",
       "      <td>0/0</td>\n",
       "      <td>0/0</td>\n",
       "      <td>0/0</td>\n",
       "      <td>0/0</td>\n",
       "    </tr>\n",
       "    <tr>\n",
       "      <th>washei71451</th>\n",
       "      <td>0/0</td>\n",
       "      <td>0/0</td>\n",
       "      <td>0/0</td>\n",
       "      <td>0/1</td>\n",
       "      <td>0/0</td>\n",
       "      <td>0/0</td>\n",
       "      <td>0/0</td>\n",
       "      <td>0/0</td>\n",
       "      <td>0/0</td>\n",
       "      <td>0/0</td>\n",
       "      <td>...</td>\n",
       "      <td>0/0</td>\n",
       "      <td>0/0</td>\n",
       "      <td>0/1</td>\n",
       "      <td>0/0</td>\n",
       "      <td>0/0</td>\n",
       "      <td>0/0</td>\n",
       "      <td>0/0</td>\n",
       "      <td>0/0</td>\n",
       "      <td>0/0</td>\n",
       "      <td>0/0</td>\n",
       "    </tr>\n",
       "    <tr>\n",
       "      <th>washei71452</th>\n",
       "      <td>0/0</td>\n",
       "      <td>0/0</td>\n",
       "      <td>0/0</td>\n",
       "      <td>0/0</td>\n",
       "      <td>0/0</td>\n",
       "      <td>0/0</td>\n",
       "      <td>0/0</td>\n",
       "      <td>1/0</td>\n",
       "      <td>0/0</td>\n",
       "      <td>0/0</td>\n",
       "      <td>...</td>\n",
       "      <td>0/0</td>\n",
       "      <td>0/0</td>\n",
       "      <td>0/1</td>\n",
       "      <td>0/0</td>\n",
       "      <td>0/0</td>\n",
       "      <td>0/0</td>\n",
       "      <td>0/0</td>\n",
       "      <td>0/0</td>\n",
       "      <td>0/0</td>\n",
       "      <td>0/0</td>\n",
       "    </tr>\n",
       "    <tr>\n",
       "      <th>washei71453</th>\n",
       "      <td>0/0</td>\n",
       "      <td>0/0</td>\n",
       "      <td>0/0</td>\n",
       "      <td>0/1</td>\n",
       "      <td>0/1</td>\n",
       "      <td>0/0</td>\n",
       "      <td>0/0</td>\n",
       "      <td>1/0</td>\n",
       "      <td>0/0</td>\n",
       "      <td>0/0</td>\n",
       "      <td>...</td>\n",
       "      <td>0/0</td>\n",
       "      <td>0/0</td>\n",
       "      <td>0/1</td>\n",
       "      <td>0/0</td>\n",
       "      <td>0/0</td>\n",
       "      <td>0/0</td>\n",
       "      <td>0/0</td>\n",
       "      <td>0/0</td>\n",
       "      <td>0/0</td>\n",
       "      <td>0/0</td>\n",
       "    </tr>\n",
       "    <tr>\n",
       "      <th>washei71454</th>\n",
       "      <td>0/0</td>\n",
       "      <td>0/0</td>\n",
       "      <td>0/0</td>\n",
       "      <td>0/0</td>\n",
       "      <td>0/0</td>\n",
       "      <td>0/0</td>\n",
       "      <td>0/0</td>\n",
       "      <td>1/0</td>\n",
       "      <td>0/0</td>\n",
       "      <td>0/0</td>\n",
       "      <td>...</td>\n",
       "      <td>0/0</td>\n",
       "      <td>0/0</td>\n",
       "      <td>0/1</td>\n",
       "      <td>0/0</td>\n",
       "      <td>0/0</td>\n",
       "      <td>0/0</td>\n",
       "      <td>0/0</td>\n",
       "      <td>0/0</td>\n",
       "      <td>0/0</td>\n",
       "      <td>0/0</td>\n",
       "    </tr>\n",
       "  </tbody>\n",
       "</table>\n",
       "<p>3446 rows × 2122 columns</p>\n",
       "</div>"
      ],
      "text/plain": [
       "pos-ref/alt 11-G/A 16-T/C 17-G/A 21-G/A 31-T/C 33-T/C 34-C/T 35-C/G 35-C/G,A  \\\n",
       "washei25748    0/0    0/0    0/0    0/0    0/0    0/0    0/0    0/0      0/0   \n",
       "washei25756    0/0    0/0    0/0    0/1    0/1    0/0    0/0    0/0      0/0   \n",
       "washei25759    0/0    0/0    0/0    0/0    0/0    0/0    0/0    1/0      0/0   \n",
       "washei25762    0/0    0/0    0/0    0/1    0/1    0/0    0/0    1/0      0/0   \n",
       "washei25772    0/0    0/0    0/0    0/0    0/1    0/0    0/0    0/0      0/0   \n",
       "...            ...    ...    ...    ...    ...    ...    ...    ...      ...   \n",
       "washei71450    0/0    0/0    0/0    0/1    0/1    0/0    0/0    1/0      0/0   \n",
       "washei71451    0/0    0/0    0/0    0/1    0/0    0/0    0/0    0/0      0/0   \n",
       "washei71452    0/0    0/0    0/0    0/0    0/0    0/0    0/0    1/0      0/0   \n",
       "washei71453    0/0    0/0    0/0    0/1    0/1    0/0    0/0    1/0      0/0   \n",
       "washei71454    0/0    0/0    0/0    0/0    0/0    0/0    0/0    1/0      0/0   \n",
       "\n",
       "pos-ref/alt 35-C/G,-  ... 5089-G/A 5090-G/T 5092-G/T 5093-T/G 5094-G/T  \\\n",
       "washei25748      0/0  ...      0/0      0/0      0/1      0/0      0/0   \n",
       "washei25756      0/0  ...      0/0      0/0      0/1      0/0      0/0   \n",
       "washei25759      0/0  ...      0/0      0/0      0/1      0/0      0/0   \n",
       "washei25762      0/0  ...      0/0      0/0      0/1      0/0      0/0   \n",
       "washei25772      0/0  ...      0/0      0/0      0/1      0/0      0/0   \n",
       "...              ...  ...      ...      ...      ...      ...      ...   \n",
       "washei71450      0/0  ...      0/0      0/0      0/1      0/0      0/0   \n",
       "washei71451      0/0  ...      0/0      0/0      0/1      0/0      0/0   \n",
       "washei71452      0/0  ...      0/0      0/0      0/1      0/0      0/0   \n",
       "washei71453      0/0  ...      0/0      0/0      0/1      0/0      0/0   \n",
       "washei71454      0/0  ...      0/0      0/0      0/1      0/0      0/0   \n",
       "\n",
       "pos-ref/alt 5096-T/C 5098-T/G 5099-C/T 5099-C/G 5099-C/A  \n",
       "washei25748      0/0      0/0      0/0      0/0      0/0  \n",
       "washei25756      0/0      0/0      0/0      0/0      0/0  \n",
       "washei25759      0/0      0/0      0/0      0/0      0/0  \n",
       "washei25762      0/0      0/0      0/0      0/0      0/0  \n",
       "washei25772      0/0      0/0      0/0      0/0      0/0  \n",
       "...              ...      ...      ...      ...      ...  \n",
       "washei71450      0/0      0/0      0/0      0/0      0/0  \n",
       "washei71451      0/0      0/0      0/0      0/0      0/0  \n",
       "washei71452      0/0      0/0      0/0      0/0      0/0  \n",
       "washei71453      0/0      0/0      0/0      0/0      0/0  \n",
       "washei71454      0/0      0/0      0/0      0/0      0/0  \n",
       "\n",
       "[3446 rows x 2122 columns]"
      ]
     },
     "execution_count": 15,
     "metadata": {},
     "output_type": "execute_result"
    }
   ],
   "source": [
    "DL.get_vcf(ethnicity = \"complete\")"
   ]
  }
 ],
 "metadata": {
  "kernelspec": {
   "display_name": "Python 3 (ipykernel)",
   "language": "python",
   "name": "python3"
  },
  "language_info": {
   "codemirror_mode": {
    "name": "ipython",
    "version": 3
   },
   "file_extension": ".py",
   "mimetype": "text/x-python",
   "name": "python",
   "nbconvert_exporter": "python",
   "pygments_lexer": "ipython3",
   "version": "3.8.12"
  }
 },
 "nbformat": 4,
 "nbformat_minor": 5
}
